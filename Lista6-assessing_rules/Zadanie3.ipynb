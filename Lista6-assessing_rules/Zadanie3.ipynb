{
 "cells": [
  {
   "cell_type": "code",
   "execution_count": 1,
   "metadata": {
    "collapsed": true
   },
   "outputs": [],
   "source": [
    "import numpy as np\n",
    "import pandas as pd\n",
    "import matplotlib.pyplot as plt\n",
    "import itertools"
   ]
  },
  {
   "cell_type": "code",
   "execution_count": 2,
   "metadata": {
    "collapsed": true
   },
   "outputs": [],
   "source": [
    "class Apriori:\n",
    "    def __init__(self, min_supp, min_conf, products, transactions):\n",
    "        self.min_supp = min_supp\n",
    "        self.min_conf = min_conf\n",
    "        self.products = products\n",
    "        self.transactions = transactions\n",
    "        self.trans_len = len(transactions)\n",
    "\n",
    "    def occurence(self, p):\n",
    "        occ = 0\n",
    "        for t in self.transactions:\n",
    "            occ += int(p in t)\n",
    "        return occ/self.trans_len\n",
    "\n",
    "    def supp(self, s):\n",
    "        occ = 0\n",
    "        for t in self.transactions:\n",
    "            occ += int(s.issubset(t))\n",
    "        return occ/self.trans_len\n",
    "    \n",
    "    def confidance(self, rule):\n",
    "        return self.supp(rule[0] | rule[1])/self.supp(rule[0])\n",
    "    \n",
    "    def makeFrequentSets(self):\n",
    "        F = list()\n",
    "        F.append(frozenset({frozenset({p}) for p in self.products  if self.occurence(p) >= self.min_supp}))\n",
    "        i = 1\n",
    "#         print(F[0])\n",
    "        while len(F[i-1]) > 0:\n",
    "            C = { frozenset(L1 | L2) for L1 in F[i-1] for L2 in F[i-1] if len(L1 | L2) == i+1 and self.supp(L1 | L2) >= self.min_supp}\n",
    "#             print(i,C)\n",
    "            F.append(C)\n",
    "            i += 1\n",
    "        self.frequent_sets = list(itertools.chain.from_iterable(F))\n",
    "        return self.frequent_sets\n",
    "    \n",
    "    def makeAssesRules(self):\n",
    "        R = list()\n",
    "        R.append({ (s,frozenset()) for s in self.frequent_sets})\n",
    "        i = 1\n",
    "        while len(R[i-1]) > 0:\n",
    "            C = {(X[0] - {pre},X[1] | {pre}) for X in R[i-1] for pre in X[0] if self.confidance((X[0] - {pre},X[1] | {pre})) >= self.min_conf }\n",
    "#             print(C)\n",
    "            R.append(C)\n",
    "            i += 1\n",
    "        self.asses_rules = list(itertools.chain.from_iterable(R))\n",
    "        return self.asses_rules\n",
    "        \n",
    "    def lift(self, rule):\n",
    "        return self.confidance(rule)/self.supp(rule[1])\n",
    "    \n",
    "    def liftFilter(self, val):\n",
    "        return [r for r in self.asses_rules if self.lift(r) >= val]\n",
    "    \n",
    "    def leverage(self, rule):\n",
    "        return self.supp(rule[0] | rule[1]) - self.supp(rule[0]) * self.supp(rule[1])\n",
    "    \n",
    "    def leverageFilter(self, val):\n",
    "        return [r for r in self.asses_rules if self.leverage(r) >= val]"
   ]
  },
  {
   "cell_type": "code",
   "execution_count": null,
   "metadata": {
    "collapsed": true
   },
   "outputs": [],
   "source": [
    "allTransactions = [set([int(id) for id in line.split()]) for line in open('/home/dominik/Dokumenty/Studia/Data-mining/Lista6-assiessing_rules/Lista06Dane3/')]\n",
    "\n",
    "# data = pd.read_csv('/home/dominik/Dokumenty/Studia/Data-mining/Lista6-assiessing_rules/apriori/1000/1000-out1.csv', header=None)"
   ]
  }
 ],
 "metadata": {
  "kernelspec": {
   "display_name": "Python 3",
   "language": "python",
   "name": "python3"
  },
  "language_info": {
   "codemirror_mode": {
    "name": "ipython",
    "version": 3
   },
   "file_extension": ".py",
   "mimetype": "text/x-python",
   "name": "python",
   "nbconvert_exporter": "python",
   "pygments_lexer": "ipython3",
   "version": "3.6.1"
  }
 },
 "nbformat": 4,
 "nbformat_minor": 2
}
