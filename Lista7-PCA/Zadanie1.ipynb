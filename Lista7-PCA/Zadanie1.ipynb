{
 "cells": [
  {
   "cell_type": "code",
   "execution_count": 13,
   "metadata": {
    "collapsed": true
   },
   "outputs": [],
   "source": [
    "import numpy as np\n",
    "import matplotlib.pyplot as plt"
   ]
  },
  {
   "cell_type": "code",
   "execution_count": 14,
   "metadata": {
    "scrolled": true
   },
   "outputs": [
    {
     "name": "stdout",
     "output_type": "stream",
     "text": [
      "Help on function eigh in module numpy.linalg.linalg:\n",
      "\n",
      "eigh(a, UPLO='L')\n",
      "    Return the eigenvalues and eigenvectors of a Hermitian or symmetric matrix.\n",
      "    \n",
      "    Returns two objects, a 1-D array containing the eigenvalues of `a`, and\n",
      "    a 2-D square array or matrix (depending on the input type) of the\n",
      "    corresponding eigenvectors (in columns).\n",
      "    \n",
      "    Parameters\n",
      "    ----------\n",
      "    a : (..., M, M) array\n",
      "        Hermitian/Symmetric matrices whose eigenvalues and\n",
      "        eigenvectors are to be computed.\n",
      "    UPLO : {'L', 'U'}, optional\n",
      "        Specifies whether the calculation is done with the lower triangular\n",
      "        part of `a` ('L', default) or the upper triangular part ('U').\n",
      "        Irrespective of this value only the real parts of the diagonal will\n",
      "        be considered in the computation to preserve the notion of a Hermitian\n",
      "        matrix. It therefore follows that the imaginary part of the diagonal\n",
      "        will always be treated as zero.\n",
      "    \n",
      "    Returns\n",
      "    -------\n",
      "    w : (..., M) ndarray\n",
      "        The eigenvalues in ascending order, each repeated according to\n",
      "        its multiplicity.\n",
      "    v : {(..., M, M) ndarray, (..., M, M) matrix}\n",
      "        The column ``v[:, i]`` is the normalized eigenvector corresponding\n",
      "        to the eigenvalue ``w[i]``.  Will return a matrix object if `a` is\n",
      "        a matrix object.\n",
      "    \n",
      "    Raises\n",
      "    ------\n",
      "    LinAlgError\n",
      "        If the eigenvalue computation does not converge.\n",
      "    \n",
      "    See Also\n",
      "    --------\n",
      "    eigvalsh : eigenvalues of symmetric or Hermitian arrays.\n",
      "    eig : eigenvalues and right eigenvectors for non-symmetric arrays.\n",
      "    eigvals : eigenvalues of non-symmetric arrays.\n",
      "    \n",
      "    Notes\n",
      "    -----\n",
      "    \n",
      "    .. versionadded:: 1.8.0\n",
      "    \n",
      "    Broadcasting rules apply, see the `numpy.linalg` documentation for\n",
      "    details.\n",
      "    \n",
      "    The eigenvalues/eigenvectors are computed using LAPACK routines _syevd,\n",
      "    _heevd\n",
      "    \n",
      "    The eigenvalues of real symmetric or complex Hermitian matrices are\n",
      "    always real. [1]_ The array `v` of (column) eigenvectors is unitary\n",
      "    and `a`, `w`, and `v` satisfy the equations\n",
      "    ``dot(a, v[:, i]) = w[i] * v[:, i]``.\n",
      "    \n",
      "    References\n",
      "    ----------\n",
      "    .. [1] G. Strang, *Linear Algebra and Its Applications*, 2nd Ed., Orlando,\n",
      "           FL, Academic Press, Inc., 1980, pg. 222.\n",
      "    \n",
      "    Examples\n",
      "    --------\n",
      "    >>> from numpy import linalg as LA\n",
      "    >>> a = np.array([[1, -2j], [2j, 5]])\n",
      "    >>> a\n",
      "    array([[ 1.+0.j,  0.-2.j],\n",
      "           [ 0.+2.j,  5.+0.j]])\n",
      "    >>> w, v = LA.eigh(a)\n",
      "    >>> w; v\n",
      "    array([ 0.17157288,  5.82842712])\n",
      "    array([[-0.92387953+0.j        , -0.38268343+0.j        ],\n",
      "           [ 0.00000000+0.38268343j,  0.00000000-0.92387953j]])\n",
      "    \n",
      "    >>> np.dot(a, v[:, 0]) - w[0] * v[:, 0] # verify 1st e-val/vec pair\n",
      "    array([2.77555756e-17 + 0.j, 0. + 1.38777878e-16j])\n",
      "    >>> np.dot(a, v[:, 1]) - w[1] * v[:, 1] # verify 2nd e-val/vec pair\n",
      "    array([ 0.+0.j,  0.+0.j])\n",
      "    \n",
      "    >>> A = np.matrix(a) # what happens if input is a matrix object\n",
      "    >>> A\n",
      "    matrix([[ 1.+0.j,  0.-2.j],\n",
      "            [ 0.+2.j,  5.+0.j]])\n",
      "    >>> w, v = LA.eigh(A)\n",
      "    >>> w; v\n",
      "    array([ 0.17157288,  5.82842712])\n",
      "    matrix([[-0.92387953+0.j        , -0.38268343+0.j        ],\n",
      "            [ 0.00000000+0.38268343j,  0.00000000-0.92387953j]])\n",
      "    \n",
      "    >>> # demonstrate the treatment of the imaginary part of the diagonal\n",
      "    >>> a = np.array([[5+2j, 9-2j], [0+2j, 2-1j]]) \n",
      "    >>> a\n",
      "    array([[ 5.+2.j,  9.-2.j],\n",
      "           [ 0.+2.j,  2.-1.j]])\n",
      "    >>> # with UPLO='L' this is numerically equivalent to using LA.eig() with:\n",
      "    >>> b = np.array([[5.+0.j, 0.-2.j], [0.+2.j, 2.-0.j]])\n",
      "    >>> b\n",
      "    array([[ 5.+0.j,  0.-2.j],\n",
      "           [ 0.+2.j,  2.+0.j]])\n",
      "    >>> wa, va = LA.eigh(a)\n",
      "    >>> wb, vb = LA.eig(b)\n",
      "    >>> wa; wb\n",
      "    array([ 1.,  6.])\n",
      "    array([ 6.+0.j,  1.+0.j])\n",
      "    >>> va; vb\n",
      "    array([[-0.44721360-0.j        , -0.89442719+0.j        ],\n",
      "           [ 0.00000000+0.89442719j,  0.00000000-0.4472136j ]])\n",
      "    array([[ 0.89442719+0.j       ,  0.00000000-0.4472136j],\n",
      "           [ 0.00000000-0.4472136j,  0.89442719+0.j       ]])\n",
      "\n"
     ]
    }
   ],
   "source": [
    "help(np.linalg.eigh)"
   ]
  },
  {
   "cell_type": "code",
   "execution_count": 15,
   "metadata": {
    "collapsed": true
   },
   "outputs": [],
   "source": [
    "def generateData(N,d,μ,Σ):\n",
    "    A = np.linalg.cholesky(Σ)\n",
    "    X = A.dot(np.random.randn(N,d).T).T + μ\n",
    "    return X"
   ]
  },
  {
   "cell_type": "code",
   "execution_count": 16,
   "metadata": {
    "collapsed": true
   },
   "outputs": [],
   "source": [
    "X = generateData(1000, 2, np.array([3,5]), np.array([12,3,3,1]).reshape(2,2))"
   ]
  },
  {
   "cell_type": "code",
   "execution_count": 17,
   "metadata": {
    "collapsed": true
   },
   "outputs": [],
   "source": [
    "X_std = (X - np.mean(X,axis=0)) / np.std(X,axis=0)"
   ]
  },
  {
   "cell_type": "code",
   "execution_count": 18,
   "metadata": {},
   "outputs": [
    {
     "name": "stdout",
     "output_type": "stream",
     "text": [
      "[[ 1.001001    0.87749574]\n",
      " [ 0.87749574  1.001001  ]]\n"
     ]
    }
   ],
   "source": [
    "S = np.cov(X_std.T)\n",
    "print(S)"
   ]
  },
  {
   "cell_type": "code",
   "execution_count": 19,
   "metadata": {},
   "outputs": [
    {
     "name": "stdout",
     "output_type": "stream",
     "text": [
      "Λ:  [ 0.12350526  1.87849674] \n",
      "\n",
      "V:  [[-0.70710678  0.70710678]\n",
      " [ 0.70710678  0.70710678]]\n"
     ]
    }
   ],
   "source": [
    "Λ,V = np.linalg.eigh(S)\n",
    "print('Λ: ',Λ,'\\n\\nV: ',V)"
   ]
  },
  {
   "cell_type": "code",
   "execution_count": 20,
   "metadata": {},
   "outputs": [
    {
     "name": "stdout",
     "output_type": "stream",
     "text": [
      "[[-0.62529784 -0.53538923]\n",
      " [-1.08913493 -0.92511829]\n",
      " [ 0.45300598 -0.43886391]\n",
      " ..., \n",
      " [-0.40533238  0.26076144]\n",
      " [ 0.02360292  0.55005087]\n",
      " [-0.83626864  0.30001853]]\n"
     ]
    }
   ],
   "source": [
    "Y = X_std.dot(V)\n",
    "Y /= np.sqrt(Λ)\n",
    "print(Y)"
   ]
  },
  {
   "cell_type": "code",
   "execution_count": 21,
   "metadata": {},
   "outputs": [
    {
     "data": {
      "image/png": "[encoded data removed]",
      "text/plain": [
       "<matplotlib.figure.Figure at 0x7faaf75f1588>"
      ]
     },
     "metadata": {},
     "output_type": "display_data"
    }
   ],
   "source": [
    "plt.plot(X[:,0],X[:,1], 'ko', markerfacecolor='r')\n",
    "plt.axis('equal')\n",
    "plt.plot(np.array([-5 * V[0,0] , 5 * V[0,0]]) * np.std(X,axis=0)[0] + np.mean(X,axis=0)[0], np.array([-5 * V[1,0] , 5 * V[1,0]]) * np.std(X,axis=0)[1] + np.mean(X,axis=0)[1]) \n",
    "plt.plot(np.array([-5 * V[0,1] , 5 * V[0,1]]) * np.std(X,axis=0)[0] + np.mean(X,axis=0)[0], np.array([-5 * V[1,1] , 5 * V[1,1]]) * np.std(X,axis=0)[1] + np.mean(X,axis=0)[1]) \n",
    "\n",
    "plt.show()"
   ]
  },
  {
   "cell_type": "code",
   "execution_count": 22,
   "metadata": {},
   "outputs": [
    {
     "data": {
      "image/png": "[encoded data removed]",
      "text/plain": [
       "<matplotlib.figure.Figure at 0x7faaf773b3c8>"
      ]
     },
     "metadata": {},
     "output_type": "display_data"
    }
   ],
   "source": [
    "plt.plot(X_std[:,0],X_std[:,1], 'ko', markerfacecolor='r')\n",
    "plt.plot([-5 * V[0,0] , 5 * V[0,0]], [-5 * V[1,0] , 5 * V[1,0]]) \n",
    "plt.axis('equal')\n",
    "plt.plot([-5 * V[0,1],5 * V[0,1]], [-5 * V[1,1],5 * V[1,1]])\n",
    "plt.show()"
   ]
  },
  {
   "cell_type": "code",
   "execution_count": 23,
   "metadata": {},
   "outputs": [
    {
     "data": {
      "image/png": "[encoded data removed]",
      "text/plain": [
       "<matplotlib.figure.Figure at 0x7faaf7734668>"
      ]
     },
     "metadata": {},
     "output_type": "display_data"
    }
   ],
   "source": [
    "plt.plot(Y[:,0],Y[:,1], 'ko', markerfacecolor='r')\n",
    "plt.axis('equal')\n",
    "plt.show()"
   ]
  },
  {
   "cell_type": "code",
   "execution_count": 24,
   "metadata": {
    "collapsed": true
   },
   "outputs": [],
   "source": [
    "def computeStats(X):\n",
    "    print('Mean: ', np.mean(X,axis=0))\n",
    "    print('Variance: ', np.std(X,axis=0)**2)\n",
    "    print('Covariance:\\n', np.cov(X.T))\n",
    "    print('Corrcoef:\\n', np.corrcoef(X.T),'\\n')"
   ]
  },
  {
   "cell_type": "code",
   "execution_count": 25,
   "metadata": {},
   "outputs": [
    {
     "name": "stdout",
     "output_type": "stream",
     "text": [
      "Original data stats:\n",
      "Mean:  [ 3.03809408  4.99515043]\n",
      "Variance:  [ 11.67344711   1.02860431]\n",
      "Covariance:\n",
      " [[ 11.68513224   3.04066621]\n",
      " [  3.04066621   1.02963394]]\n",
      "Corrcoef:\n",
      " [[ 1.          0.87661825]\n",
      " [ 0.87661825  1.        ]] \n",
      "\n",
      "Stadarized data stats:\n",
      "Mean:  [ -2.48689958e-17   8.98836561e-16]\n",
      "Variance:  [ 1.  1.]\n",
      "Covariance:\n",
      " [[ 1.001001    0.87749574]\n",
      " [ 0.87749574  1.001001  ]]\n",
      "Corrcoef:\n",
      " [[ 1.          0.87661825]\n",
      " [ 0.87661825  1.        ]] \n",
      "\n",
      "Data after PCA stats:\n",
      "Mean:  [  1.86584082e-15   4.54913884e-16]\n",
      "Variance:  [ 0.999  0.999]\n",
      "Covariance:\n",
      " [[ 1.  0.]\n",
      " [ 0.  1.]]\n",
      "Corrcoef:\n",
      " [[ 1.  0.]\n",
      " [ 0.  1.]] \n",
      "\n"
     ]
    }
   ],
   "source": [
    "print('Original data stats:')\n",
    "computeStats(X)\n",
    "print('Stadarized data stats:')\n",
    "computeStats(X_std)\n",
    "print('Data after PCA stats:')\n",
    "computeStats(Y)"
   ]
  },
  {
   "cell_type": "code",
   "execution_count": 26,
   "metadata": {
    "collapsed": true
   },
   "outputs": [],
   "source": [
    "def generateMixtureData(N,d,k,μ,Σ):\n",
    "    A = np.linalg.cholesky(Σ)\n",
    "    dist = np.random.randint(0,3,N)\n",
    "    X = A.dot(np.random.randn(N,d).T).T + μ[dist,:]\n",
    "    return X"
   ]
  },
  {
   "cell_type": "code",
   "execution_count": 27,
   "metadata": {
    "collapsed": true
   },
   "outputs": [],
   "source": [
    "X = generateMixtureData(1000,2,3,np.array([-21,-2,3,5,27,12]).reshape(3,2), np.array([12,3,3,1]).reshape(2,2))"
   ]
  },
  {
   "cell_type": "code",
   "execution_count": 28,
   "metadata": {
    "collapsed": true
   },
   "outputs": [],
   "source": [
    "X_std = (X - np.mean(X,axis=0)) / np.std(X,axis=0)"
   ]
  },
  {
   "cell_type": "code",
   "execution_count": 29,
   "metadata": {},
   "outputs": [
    {
     "name": "stdout",
     "output_type": "stream",
     "text": [
      "[[ 1.001001    0.99703893]\n",
      " [ 0.99703893  1.001001  ]]\n"
     ]
    }
   ],
   "source": [
    "S = np.cov(X_std.T)\n",
    "print(S)"
   ]
  },
  {
   "cell_type": "code",
   "execution_count": 30,
   "metadata": {},
   "outputs": [
    {
     "name": "stdout",
     "output_type": "stream",
     "text": [
      "Λ:  [ 0.00396207  1.99803993] \n",
      "\n",
      "V:  [[ 0.70710678 -0.70710678]\n",
      " [-0.70710678 -0.70710678]]\n"
     ]
    }
   ],
   "source": [
    "Λ,V = np.linalg.eigh(S)\n",
    "print('Λ: ',Λ,'\\n\\nV: ',V)"
   ]
  },
  {
   "cell_type": "code",
   "execution_count": 31,
   "metadata": {},
   "outputs": [
    {
     "name": "stdout",
     "output_type": "stream",
     "text": [
      "[[ 0.47705443  1.05603142]\n",
      " [-0.48022987 -1.42679856]\n",
      " [-0.79914672  1.26351803]\n",
      " ..., \n",
      " [ 1.89999846  1.57487532]\n",
      " [ 0.85877002 -1.20110502]\n",
      " [-1.57475165  1.43900268]]\n"
     ]
    }
   ],
   "source": [
    "Y = X_std.dot(V)\n",
    "Y /= np.sqrt(Λ)\n",
    "print(Y)"
   ]
  },
  {
   "cell_type": "code",
   "execution_count": 32,
   "metadata": {},
   "outputs": [
    {
     "data": {
      "image/png": "[encoded data removed]",
      "text/plain": [
       "<matplotlib.figure.Figure at 0x7faaf762ac88>"
      ]
     },
     "metadata": {},
     "output_type": "display_data"
    }
   ],
   "source": [
    "plt.plot(X[:,0],X[:,1], 'ko', markerfacecolor='r')\n",
    "plt.plot(np.array([-3 * V[0,0] , 3 * V[0,0]]) * np.std(X,axis=0)[0] + np.mean(X,axis=0)[0], np.array([-3 * V[1,0] , 3 * V[1,0]]) * np.std(X,axis=0)[1] + np.mean(X,axis=0)[1]) \n",
    "plt.plot(np.array([-3 * V[0,1] , 3 * V[0,1]]) * np.std(X,axis=0)[0] + np.mean(X,axis=0)[0], np.array([-3 * V[1,1] , 3 * V[1,1]]) * np.std(X,axis=0)[1] + np.mean(X,axis=0)[1]) \n",
    "plt.axis('equal')\n",
    "plt.show()"
   ]
  },
  {
   "cell_type": "code",
   "execution_count": 33,
   "metadata": {},
   "outputs": [
    {
     "data": {
      "image/png": "[encoded data removed]",
      "text/plain": [
       "<matplotlib.figure.Figure at 0x7faaf771fe10>"
      ]
     },
     "metadata": {},
     "output_type": "display_data"
    }
   ],
   "source": [
    "plt.plot(X_std[:,0],X_std[:,1], 'ko', markerfacecolor='r')\n",
    "plt.plot([-3 * V[0,0] , 3 * V[0,0]], [-3 * V[1,0] , 3 * V[1,0]]) \n",
    "plt.axis('equal')\n",
    "plt.plot([-3 * V[0,1],3 * V[0,1]], [-3 * V[1,1],3 * V[1,1]])\n",
    "plt.show()"
   ]
  },
  {
   "cell_type": "code",
   "execution_count": 55,
   "metadata": {},
   "outputs": [
    {
     "data": {
      "image/png": "[encoded data removed]",
      "text/plain": [
       "<matplotlib.figure.Figure at 0x7faaed945160>"
      ]
     },
     "metadata": {},
     "output_type": "display_data"
    }
   ],
   "source": [
    "plt.plot(Y[:,0],Y[:,1], 'ko', markerfacecolor='r')\n",
    "plt.axis('equal')\n",
    "plt.show()"
   ]
  },
  {
   "cell_type": "code",
   "execution_count": 35,
   "metadata": {},
   "outputs": [
    {
     "name": "stdout",
     "output_type": "stream",
     "text": [
      "Original data stats:\n",
      "Mean:  [ 2.51072417  4.85097844]\n",
      "Variance:  [ 400.45153849   34.36050758]\n",
      "Covariance:\n",
      " [[ 400.85239088  116.95448564]\n",
      " [ 116.95448564   34.39490248]]\n",
      "Corrcoef:\n",
      " [[ 1.          0.99604189]\n",
      " [ 0.99604189  1.        ]] \n",
      "\n",
      "Stadarized data stats:\n",
      "Mean:  [  1.24567023e-16  -1.36113343e-16]\n",
      "Variance:  [ 1.  1.]\n",
      "Covariance:\n",
      " [[ 1.001001    0.99703893]\n",
      " [ 0.99703893  1.001001  ]]\n",
      "Corrcoef:\n",
      " [[ 1.          0.99604189]\n",
      " [ 0.99604189  1.        ]] \n",
      "\n",
      "Data after PCA stats:\n",
      "Mean:  [  2.69162470e-15  -2.06501483e-17]\n",
      "Variance:  [ 0.999  0.999]\n",
      "Covariance:\n",
      " [[  1.00000000e+00   2.36491952e-16]\n",
      " [  2.36491952e-16   1.00000000e+00]]\n",
      "Corrcoef:\n",
      " [[  1.00000000e+00   2.36491952e-16]\n",
      " [  2.36491952e-16   1.00000000e+00]] \n",
      "\n"
     ]
    }
   ],
   "source": [
    "print('Original data stats:')\n",
    "computeStats(X)\n",
    "print('Stadarized data stats:')\n",
    "computeStats(X_std)\n",
    "print('Data after PCA stats:')\n",
    "computeStats(Y)"
   ]
  },
  {
   "cell_type": "code",
   "execution_count": 36,
   "metadata": {
    "collapsed": true
   },
   "outputs": [],
   "source": [
    "import sklearn.datasets"
   ]
  },
  {
   "cell_type": "code",
   "execution_count": 37,
   "metadata": {
    "collapsed": true
   },
   "outputs": [],
   "source": [
    "iris_data = sklearn.datasets.load_iris()"
   ]
  },
  {
   "cell_type": "code",
   "execution_count": 38,
   "metadata": {},
   "outputs": [
    {
     "data": {
      "text/plain": [
       "(150, 4)"
      ]
     },
     "execution_count": 38,
     "metadata": {},
     "output_type": "execute_result"
    }
   ],
   "source": [
    "X = iris_data.data\n",
    "X.shape"
   ]
  },
  {
   "cell_type": "code",
   "execution_count": 39,
   "metadata": {
    "collapsed": true
   },
   "outputs": [],
   "source": [
    "X_std = (X - np.mean(X,axis=0)) / np.std(X,axis=0)"
   ]
  },
  {
   "cell_type": "code",
   "execution_count": 40,
   "metadata": {},
   "outputs": [
    {
     "name": "stdout",
     "output_type": "stream",
     "text": [
      "[[ 1.00671141 -0.11010327  0.87760486  0.82344326]\n",
      " [-0.11010327  1.00671141 -0.42333835 -0.358937  ]\n",
      " [ 0.87760486 -0.42333835  1.00671141  0.96921855]\n",
      " [ 0.82344326 -0.358937    0.96921855  1.00671141]]\n"
     ]
    }
   ],
   "source": [
    "S = np.cov(X_std.T)\n",
    "print(S)"
   ]
  },
  {
   "cell_type": "code",
   "execution_count": 41,
   "metadata": {},
   "outputs": [
    {
     "name": "stdout",
     "output_type": "stream",
     "text": [
      "Λ:  [ 0.02074601  0.14834223  0.92740362  2.93035378] \n",
      "\n",
      "V:  [[ 0.26199559  0.72101681  0.37231836 -0.52237162]\n",
      " [-0.12413481 -0.24203288  0.92555649  0.26335492]\n",
      " [-0.80115427 -0.14089226  0.02109478 -0.58125401]\n",
      " [ 0.52354627 -0.6338014   0.06541577 -0.56561105]]\n"
     ]
    }
   ],
   "source": [
    "Λ,V = np.linalg.eigh(S)\n",
    "print('Λ: ',Λ,'\\n\\nV: ',V)"
   ]
  },
  {
   "cell_type": "code",
   "execution_count": 42,
   "metadata": {
    "collapsed": true
   },
   "outputs": [],
   "source": [
    "Y = X_std.dot(V)\n",
    "Y /= np.sqrt(Λ)"
   ]
  },
  {
   "cell_type": "code",
   "execution_count": 43,
   "metadata": {},
   "outputs": [
    {
     "data": {
      "image/png": "[encoded data removed]",
      "text/plain": [
       "<matplotlib.figure.Figure at 0x7faaee00f908>"
      ]
     },
     "metadata": {},
     "output_type": "display_data"
    }
   ],
   "source": [
    "plt.plot(Y[:,2],Y[:,3], 'ko', markerfacecolor='r')\n",
    "plt.show()"
   ]
  },
  {
   "cell_type": "code",
   "execution_count": 44,
   "metadata": {
    "collapsed": true
   },
   "outputs": [],
   "source": [
    "Z_std = np.sqrt(Λ[2]) * Y[:,2,np.newaxis] * V[np.newaxis,:,2] + np.sqrt(Λ[3]) * Y[:,3,np.newaxis] * V[np.newaxis,:,3]"
   ]
  },
  {
   "cell_type": "code",
   "execution_count": 45,
   "metadata": {
    "collapsed": true
   },
   "outputs": [],
   "source": [
    "Z = Z_std * X.std(axis=0) + X.mean(axis=0)"
   ]
  },
  {
   "cell_type": "code",
   "execution_count": 46,
   "metadata": {},
   "outputs": [
    {
     "name": "stdout",
     "output_type": "stream",
     "text": [
      "Average error:  0.142273039678\n"
     ]
    }
   ],
   "source": [
    "err = np.sum((Z - X)**2,axis=1)\n",
    "print('Average error: ',np.sum(err)/150)"
   ]
  },
  {
   "cell_type": "markdown",
   "metadata": {},
   "source": [
    "To jest błąd dla oryginalnych danych. Ale rzutowanie robiliśmy dla danych ustandaryzowanych. Zatem policzymy też błąd dla nich."
   ]
  },
  {
   "cell_type": "code",
   "execution_count": 47,
   "metadata": {},
   "outputs": [
    {
     "name": "stdout",
     "output_type": "stream",
     "text": [
      "Average error:  0.167960985541\n",
      "Sum of smaller eigenvalues:  0.169088240477\n"
     ]
    }
   ],
   "source": [
    "err_std = np.sum((Z_std - X_std)**2,axis=1)\n",
    "print('Average error: ',np.sum(err_std)/150)\n",
    "print('Sum of smaller eigenvalues: ', np.sum(Λ[:2]))"
   ]
  },
  {
   "cell_type": "code",
   "execution_count": 48,
   "metadata": {},
   "outputs": [
    {
     "data": {
      "image/png": "[encoded data removed]",
      "text/plain": [
       "<matplotlib.figure.Figure at 0x7faaedb6b1d0>"
      ]
     },
     "metadata": {},
     "output_type": "display_data"
    }
   ],
   "source": [
    "plt.subplot(1,2,1)\n",
    "plt.plot(X[:,0],X[:,1], 'ko', markerfacecolor='r')\n",
    "plt.subplot(1,2,2)\n",
    "plt.plot(Z[:,0],Z[:,1], 'ko', markerfacecolor='r')\n",
    "plt.show()"
   ]
  },
  {
   "cell_type": "code",
   "execution_count": 49,
   "metadata": {
    "collapsed": true
   },
   "outputs": [],
   "source": [
    "def reduceDimensionality(X, Λ, V, k):\n",
    "    Y = (X * np.sqrt(Λ))[:,-k:].dot(V.T[-k:,:])\n",
    "    return Y"
   ]
  },
  {
   "cell_type": "code",
   "execution_count": 50,
   "metadata": {},
   "outputs": [
    {
     "data": {
      "text/plain": [
       "True"
      ]
     },
     "execution_count": 50,
     "metadata": {},
     "output_type": "execute_result"
    }
   ],
   "source": [
    "w = reduceDimensionality(Y, Λ,V,2)\n",
    "np.all(w == Z_std)\n",
    "# w.shape"
   ]
  },
  {
   "cell_type": "code",
   "execution_count": 51,
   "metadata": {},
   "outputs": [
    {
     "data": {
      "image/png": "[encoded data removed]",
      "text/plain": [
       "<matplotlib.figure.Figure at 0x7faaeda075c0>"
      ]
     },
     "metadata": {},
     "output_type": "display_data"
    },
    {
     "data": {
      "image/png": "[encoded data removed]",
      "text/plain": [
       "<matplotlib.figure.Figure at 0x7faaed9586d8>"
      ]
     },
     "metadata": {},
     "output_type": "display_data"
    }
   ],
   "source": [
    "plt.plot(w[:,0],w[:,1], 'ko', markerfacecolor='r')\n",
    "plt.show()\n",
    "plt.plot(Z_std[:,0],Z_std[:,1], 'ko', markerfacecolor='r')\n",
    "plt.show()"
   ]
  }
 ],
 "metadata": {
  "kernelspec": {
   "display_name": "Python 3",
   "language": "python",
   "name": "python3"
  },
  "language_info": {
   "codemirror_mode": {
    "name": "ipython",
    "version": 3
   },
   "file_extension": ".py",
   "mimetype": "text/x-python",
   "name": "python",
   "nbconvert_exporter": "python",
   "pygments_lexer": "ipython3",
   "version": "3.6.1"
  }
 },
 "nbformat": 4,
 "nbformat_minor": 2
}
