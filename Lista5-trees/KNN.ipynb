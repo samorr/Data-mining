{
 "cells": [
  {
   "cell_type": "code",
   "execution_count": 1,
   "metadata": {
    "collapsed": true
   },
   "outputs": [],
   "source": [
    "import numpy as np\n",
    "import pandas as pd\n",
    "import matplotlib.pyplot as plt\n",
    "import scipy.stats as scpystats\n",
    "from sklearn import datasets"
   ]
  },
  {
   "cell_type": "code",
   "execution_count": 2,
   "metadata": {
    "collapsed": true
   },
   "outputs": [],
   "source": [
    "class KNN:\n",
    "    def __init__(self, k):\n",
    "        self.k = k\n",
    "    \n",
    "    def fit(self, X, y):\n",
    "        self.train = X\n",
    "        self.train_labels = y\n",
    "        self.trainSquare = np.sum(X.T**2,axis=0,keepdims=True)\n",
    "    \n",
    "    def predict(self, X):\n",
    "        D = -2. * np.dot(X,self.train.T) + self.trainSquare\n",
    "        y = scpystats.mode(self.train_labels[np.argpartition(D, self.k, axis=1)[:,:self.k+1]], axis=1)\n",
    "        return y[0].flatten()"
   ]
  },
  {
   "cell_type": "code",
   "execution_count": 3,
   "metadata": {
    "collapsed": true
   },
   "outputs": [],
   "source": [
    "iris = datasets.load_iris()\n",
    "data = np.array(iris.data)\n",
    "labels = iris.target"
   ]
  },
  {
   "cell_type": "code",
   "execution_count": 4,
   "metadata": {
    "collapsed": true,
    "scrolled": true
   },
   "outputs": [],
   "source": [
    "permData = np.random.permutation(np.concatenate((data.T, labels[np.newaxis])).T)\n",
    "train_data = permData[:100,:4]\n",
    "train_labels = permData[:100,4]\n",
    "test_data = permData[100:,:4]\n",
    "test_labels = permData[100:,4]"
   ]
  },
  {
   "cell_type": "code",
   "execution_count": 5,
   "metadata": {
    "collapsed": true
   },
   "outputs": [],
   "source": [
    "knn = KNN(5)\n",
    "knn.fit(train_data, train_labels)"
   ]
  },
  {
   "cell_type": "code",
   "execution_count": 6,
   "metadata": {
    "collapsed": true
   },
   "outputs": [],
   "source": [
    "y = knn.predict(test_data)"
   ]
  },
  {
   "cell_type": "code",
   "execution_count": 7,
   "metadata": {},
   "outputs": [
    {
     "data": {
      "text/plain": [
       "(50,)"
      ]
     },
     "execution_count": 7,
     "metadata": {},
     "output_type": "execute_result"
    }
   ],
   "source": [
    "y.shape"
   ]
  },
  {
   "cell_type": "code",
   "execution_count": 8,
   "metadata": {},
   "outputs": [
    {
     "data": {
      "image/png": "[encoded data removed]",
      "text/plain": [
       "<matplotlib.figure.Figure at 0x7fd6be5db2b0>"
      ]
     },
     "metadata": {},
     "output_type": "display_data"
    },
    {
     "data": {
      "image/png": "[encoded data removed]",
      "text/plain": [
       "<matplotlib.figure.Figure at 0x7fd6bbc67c50>"
      ]
     },
     "metadata": {},
     "output_type": "display_data"
    }
   ],
   "source": [
    "plt.scatter(test_data[:,0],test_data[:,1], marker='o',c=test_labels)\n",
    "plt.show()\n",
    "\n",
    "plt.plot(test_data[y==0,0],test_data[y==0,1], 'ro')\n",
    "plt.plot(test_data[y==1,0],test_data[y==1,1], 'bo')\n",
    "plt.plot(test_data[y==2,0],test_data[y==2,1], 'go')\n",
    "plt.show()"
   ]
  },
  {
   "cell_type": "code",
   "execution_count": 9,
   "metadata": {},
   "outputs": [
    {
     "data": {
      "text/plain": [
       "0.97999999999999998"
      ]
     },
     "execution_count": 9,
     "metadata": {},
     "output_type": "execute_result"
    }
   ],
   "source": [
    "np.sum(y == test_labels)/50"
   ]
  },
  {
   "cell_type": "code",
   "execution_count": 10,
   "metadata": {},
   "outputs": [
    {
     "name": "stdout",
     "output_type": "stream",
     "text": [
      "0.94\n",
      "0.96\n",
      "0.98\n",
      "0.94\n",
      "0.98\n"
     ]
    }
   ],
   "source": [
    "for i in range(5):\n",
    "    permData = np.random.permutation(np.concatenate((data.T, labels[np.newaxis])).T)\n",
    "    train_data = permData[:100,:4]\n",
    "    train_labels = permData[:100,4]\n",
    "    test_data = permData[100:,:4]\n",
    "    test_labels = permData[100:,4]\n",
    "    \n",
    "    knn = KNN(5)\n",
    "    knn.fit(train_data, train_labels)\n",
    "    \n",
    "    y = knn.predict(test_data)\n",
    "    \n",
    "    print(np.sum(y == test_labels)/50)"
   ]
  },
  {
   "cell_type": "code",
   "execution_count": 11,
   "metadata": {},
   "outputs": [
    {
     "name": "stdout",
     "output_type": "stream",
     "text": [
      "0.9\n",
      "0.96\n",
      "0.92\n",
      "1.0\n",
      "0.94\n"
     ]
    }
   ],
   "source": [
    "for i in range(5):\n",
    "    permData = np.random.permutation(np.concatenate((data.T, labels[np.newaxis])).T)\n",
    "    train_data = permData[:100,:4]\n",
    "    train_labels = permData[:100,4]\n",
    "    test_data = permData[100:,:4]\n",
    "    test_labels = permData[100:,4]\n",
    "    \n",
    "    knn = KNN(7)\n",
    "    knn.fit(train_data, train_labels)\n",
    "    \n",
    "    y = knn.predict(test_data)\n",
    "    \n",
    "    print(np.sum(y == test_labels)/50)"
   ]
  },
  {
   "cell_type": "code",
   "execution_count": 12,
   "metadata": {},
   "outputs": [
    {
     "name": "stdout",
     "output_type": "stream",
     "text": [
      "0.98\n",
      "1.0\n",
      "0.96\n",
      "1.0\n",
      "0.98\n"
     ]
    }
   ],
   "source": [
    "for i in range(5):\n",
    "    permData = np.random.permutation(np.concatenate((data.T, labels[np.newaxis])).T)\n",
    "    train_data = permData[:100,:4]\n",
    "    train_labels = permData[:100,4]\n",
    "    test_data = permData[100:,:4]\n",
    "    test_labels = permData[100:,4]\n",
    "    \n",
    "    knn = KNN(3)\n",
    "    knn.fit(train_data, train_labels)\n",
    "    \n",
    "    y = knn.predict(test_data)\n",
    "    \n",
    "    print(np.sum(y == test_labels)/50)"
   ]
  },
  {
   "cell_type": "code",
   "execution_count": 13,
   "metadata": {},
   "outputs": [
    {
     "data": {
      "text/html": [
       "<div>\n",
       "<style>\n",
       "    .dataframe thead tr:only-child th {\n",
       "        text-align: right;\n",
       "    }\n",
       "\n",
       "    .dataframe thead th {\n",
       "        text-align: left;\n",
       "    }\n",
       "\n",
       "    .dataframe tbody tr th {\n",
       "        vertical-align: top;\n",
       "    }\n",
       "</style>\n",
       "<table border=\"1\" class=\"dataframe\">\n",
       "  <thead>\n",
       "    <tr style=\"text-align: right;\">\n",
       "      <th></th>\n",
       "      <th>0</th>\n",
       "      <th>1</th>\n",
       "      <th>2</th>\n",
       "      <th>3</th>\n",
       "      <th>4</th>\n",
       "      <th>5</th>\n",
       "      <th>6</th>\n",
       "      <th>7</th>\n",
       "      <th>8</th>\n",
       "      <th>9</th>\n",
       "      <th>...</th>\n",
       "      <th>55</th>\n",
       "      <th>56</th>\n",
       "      <th>57</th>\n",
       "      <th>58</th>\n",
       "      <th>59</th>\n",
       "      <th>60</th>\n",
       "      <th>61</th>\n",
       "      <th>62</th>\n",
       "      <th>63</th>\n",
       "      <th>64</th>\n",
       "    </tr>\n",
       "  </thead>\n",
       "  <tbody>\n",
       "    <tr>\n",
       "      <th>0</th>\n",
       "      <td>0</td>\n",
       "      <td>1</td>\n",
       "      <td>6</td>\n",
       "      <td>15</td>\n",
       "      <td>12</td>\n",
       "      <td>1</td>\n",
       "      <td>0</td>\n",
       "      <td>0</td>\n",
       "      <td>0</td>\n",
       "      <td>7</td>\n",
       "      <td>...</td>\n",
       "      <td>0</td>\n",
       "      <td>0</td>\n",
       "      <td>0</td>\n",
       "      <td>6</td>\n",
       "      <td>14</td>\n",
       "      <td>7</td>\n",
       "      <td>1</td>\n",
       "      <td>0</td>\n",
       "      <td>0</td>\n",
       "      <td>0</td>\n",
       "    </tr>\n",
       "    <tr>\n",
       "      <th>1</th>\n",
       "      <td>0</td>\n",
       "      <td>0</td>\n",
       "      <td>10</td>\n",
       "      <td>16</td>\n",
       "      <td>6</td>\n",
       "      <td>0</td>\n",
       "      <td>0</td>\n",
       "      <td>0</td>\n",
       "      <td>0</td>\n",
       "      <td>7</td>\n",
       "      <td>...</td>\n",
       "      <td>0</td>\n",
       "      <td>0</td>\n",
       "      <td>0</td>\n",
       "      <td>10</td>\n",
       "      <td>16</td>\n",
       "      <td>15</td>\n",
       "      <td>3</td>\n",
       "      <td>0</td>\n",
       "      <td>0</td>\n",
       "      <td>0</td>\n",
       "    </tr>\n",
       "    <tr>\n",
       "      <th>2</th>\n",
       "      <td>0</td>\n",
       "      <td>0</td>\n",
       "      <td>8</td>\n",
       "      <td>15</td>\n",
       "      <td>16</td>\n",
       "      <td>13</td>\n",
       "      <td>0</td>\n",
       "      <td>0</td>\n",
       "      <td>0</td>\n",
       "      <td>1</td>\n",
       "      <td>...</td>\n",
       "      <td>0</td>\n",
       "      <td>0</td>\n",
       "      <td>0</td>\n",
       "      <td>9</td>\n",
       "      <td>14</td>\n",
       "      <td>0</td>\n",
       "      <td>0</td>\n",
       "      <td>0</td>\n",
       "      <td>0</td>\n",
       "      <td>7</td>\n",
       "    </tr>\n",
       "    <tr>\n",
       "      <th>3</th>\n",
       "      <td>0</td>\n",
       "      <td>0</td>\n",
       "      <td>0</td>\n",
       "      <td>3</td>\n",
       "      <td>11</td>\n",
       "      <td>16</td>\n",
       "      <td>0</td>\n",
       "      <td>0</td>\n",
       "      <td>0</td>\n",
       "      <td>0</td>\n",
       "      <td>...</td>\n",
       "      <td>0</td>\n",
       "      <td>0</td>\n",
       "      <td>0</td>\n",
       "      <td>0</td>\n",
       "      <td>1</td>\n",
       "      <td>15</td>\n",
       "      <td>2</td>\n",
       "      <td>0</td>\n",
       "      <td>0</td>\n",
       "      <td>4</td>\n",
       "    </tr>\n",
       "    <tr>\n",
       "      <th>4</th>\n",
       "      <td>0</td>\n",
       "      <td>0</td>\n",
       "      <td>5</td>\n",
       "      <td>14</td>\n",
       "      <td>4</td>\n",
       "      <td>0</td>\n",
       "      <td>0</td>\n",
       "      <td>0</td>\n",
       "      <td>0</td>\n",
       "      <td>0</td>\n",
       "      <td>...</td>\n",
       "      <td>0</td>\n",
       "      <td>0</td>\n",
       "      <td>0</td>\n",
       "      <td>4</td>\n",
       "      <td>12</td>\n",
       "      <td>14</td>\n",
       "      <td>7</td>\n",
       "      <td>0</td>\n",
       "      <td>0</td>\n",
       "      <td>6</td>\n",
       "    </tr>\n",
       "  </tbody>\n",
       "</table>\n",
       "<p>5 rows × 65 columns</p>\n",
       "</div>"
      ],
      "text/plain": [
       "   0   1   2   3   4   5   6   7   8   9  ...  55  56  57  58  59  60  61  62  \\\n",
       "0   0   1   6  15  12   1   0   0   0   7 ...   0   0   0   6  14   7   1   0   \n",
       "1   0   0  10  16   6   0   0   0   0   7 ...   0   0   0  10  16  15   3   0   \n",
       "2   0   0   8  15  16  13   0   0   0   1 ...   0   0   0   9  14   0   0   0   \n",
       "3   0   0   0   3  11  16   0   0   0   0 ...   0   0   0   0   1  15   2   0   \n",
       "4   0   0   5  14   4   0   0   0   0   0 ...   0   0   0   4  12  14   7   0   \n",
       "\n",
       "   63  64  \n",
       "0   0   0  \n",
       "1   0   0  \n",
       "2   0   7  \n",
       "3   0   4  \n",
       "4   0   6  \n",
       "\n",
       "[5 rows x 65 columns]"
      ]
     },
     "execution_count": 13,
     "metadata": {},
     "output_type": "execute_result"
    }
   ],
   "source": [
    "digitsTrain = pd.read_csv('/home/dominik/Dokumenty/Studia/Data-mining/Lista5-trees/digits.tra', header=None)\n",
    "digitsTrain.head()"
   ]
  },
  {
   "cell_type": "code",
   "execution_count": 14,
   "metadata": {},
   "outputs": [
    {
     "data": {
      "text/html": [
       "<div>\n",
       "<style>\n",
       "    .dataframe thead tr:only-child th {\n",
       "        text-align: right;\n",
       "    }\n",
       "\n",
       "    .dataframe thead th {\n",
       "        text-align: left;\n",
       "    }\n",
       "\n",
       "    .dataframe tbody tr th {\n",
       "        vertical-align: top;\n",
       "    }\n",
       "</style>\n",
       "<table border=\"1\" class=\"dataframe\">\n",
       "  <thead>\n",
       "    <tr style=\"text-align: right;\">\n",
       "      <th></th>\n",
       "      <th>0</th>\n",
       "      <th>1</th>\n",
       "      <th>2</th>\n",
       "      <th>3</th>\n",
       "      <th>4</th>\n",
       "      <th>5</th>\n",
       "      <th>6</th>\n",
       "      <th>7</th>\n",
       "      <th>8</th>\n",
       "      <th>9</th>\n",
       "      <th>...</th>\n",
       "      <th>55</th>\n",
       "      <th>56</th>\n",
       "      <th>57</th>\n",
       "      <th>58</th>\n",
       "      <th>59</th>\n",
       "      <th>60</th>\n",
       "      <th>61</th>\n",
       "      <th>62</th>\n",
       "      <th>63</th>\n",
       "      <th>64</th>\n",
       "    </tr>\n",
       "  </thead>\n",
       "  <tbody>\n",
       "    <tr>\n",
       "      <th>0</th>\n",
       "      <td>0</td>\n",
       "      <td>0</td>\n",
       "      <td>5</td>\n",
       "      <td>13</td>\n",
       "      <td>9</td>\n",
       "      <td>1</td>\n",
       "      <td>0</td>\n",
       "      <td>0</td>\n",
       "      <td>0</td>\n",
       "      <td>0</td>\n",
       "      <td>...</td>\n",
       "      <td>0</td>\n",
       "      <td>0</td>\n",
       "      <td>0</td>\n",
       "      <td>6</td>\n",
       "      <td>13</td>\n",
       "      <td>10</td>\n",
       "      <td>0</td>\n",
       "      <td>0</td>\n",
       "      <td>0</td>\n",
       "      <td>0</td>\n",
       "    </tr>\n",
       "    <tr>\n",
       "      <th>1</th>\n",
       "      <td>0</td>\n",
       "      <td>0</td>\n",
       "      <td>0</td>\n",
       "      <td>12</td>\n",
       "      <td>13</td>\n",
       "      <td>5</td>\n",
       "      <td>0</td>\n",
       "      <td>0</td>\n",
       "      <td>0</td>\n",
       "      <td>0</td>\n",
       "      <td>...</td>\n",
       "      <td>0</td>\n",
       "      <td>0</td>\n",
       "      <td>0</td>\n",
       "      <td>0</td>\n",
       "      <td>11</td>\n",
       "      <td>16</td>\n",
       "      <td>10</td>\n",
       "      <td>0</td>\n",
       "      <td>0</td>\n",
       "      <td>1</td>\n",
       "    </tr>\n",
       "    <tr>\n",
       "      <th>2</th>\n",
       "      <td>0</td>\n",
       "      <td>0</td>\n",
       "      <td>0</td>\n",
       "      <td>4</td>\n",
       "      <td>15</td>\n",
       "      <td>12</td>\n",
       "      <td>0</td>\n",
       "      <td>0</td>\n",
       "      <td>0</td>\n",
       "      <td>0</td>\n",
       "      <td>...</td>\n",
       "      <td>0</td>\n",
       "      <td>0</td>\n",
       "      <td>0</td>\n",
       "      <td>0</td>\n",
       "      <td>3</td>\n",
       "      <td>11</td>\n",
       "      <td>16</td>\n",
       "      <td>9</td>\n",
       "      <td>0</td>\n",
       "      <td>2</td>\n",
       "    </tr>\n",
       "    <tr>\n",
       "      <th>3</th>\n",
       "      <td>0</td>\n",
       "      <td>0</td>\n",
       "      <td>7</td>\n",
       "      <td>15</td>\n",
       "      <td>13</td>\n",
       "      <td>1</td>\n",
       "      <td>0</td>\n",
       "      <td>0</td>\n",
       "      <td>0</td>\n",
       "      <td>8</td>\n",
       "      <td>...</td>\n",
       "      <td>0</td>\n",
       "      <td>0</td>\n",
       "      <td>0</td>\n",
       "      <td>7</td>\n",
       "      <td>13</td>\n",
       "      <td>13</td>\n",
       "      <td>9</td>\n",
       "      <td>0</td>\n",
       "      <td>0</td>\n",
       "      <td>3</td>\n",
       "    </tr>\n",
       "    <tr>\n",
       "      <th>4</th>\n",
       "      <td>0</td>\n",
       "      <td>0</td>\n",
       "      <td>0</td>\n",
       "      <td>1</td>\n",
       "      <td>11</td>\n",
       "      <td>0</td>\n",
       "      <td>0</td>\n",
       "      <td>0</td>\n",
       "      <td>0</td>\n",
       "      <td>0</td>\n",
       "      <td>...</td>\n",
       "      <td>0</td>\n",
       "      <td>0</td>\n",
       "      <td>0</td>\n",
       "      <td>0</td>\n",
       "      <td>2</td>\n",
       "      <td>16</td>\n",
       "      <td>4</td>\n",
       "      <td>0</td>\n",
       "      <td>0</td>\n",
       "      <td>4</td>\n",
       "    </tr>\n",
       "  </tbody>\n",
       "</table>\n",
       "<p>5 rows × 65 columns</p>\n",
       "</div>"
      ],
      "text/plain": [
       "   0   1   2   3   4   5   6   7   8   9  ...  55  56  57  58  59  60  61  62  \\\n",
       "0   0   0   5  13   9   1   0   0   0   0 ...   0   0   0   6  13  10   0   0   \n",
       "1   0   0   0  12  13   5   0   0   0   0 ...   0   0   0   0  11  16  10   0   \n",
       "2   0   0   0   4  15  12   0   0   0   0 ...   0   0   0   0   3  11  16   9   \n",
       "3   0   0   7  15  13   1   0   0   0   8 ...   0   0   0   7  13  13   9   0   \n",
       "4   0   0   0   1  11   0   0   0   0   0 ...   0   0   0   0   2  16   4   0   \n",
       "\n",
       "   63  64  \n",
       "0   0   0  \n",
       "1   0   1  \n",
       "2   0   2  \n",
       "3   0   3  \n",
       "4   0   4  \n",
       "\n",
       "[5 rows x 65 columns]"
      ]
     },
     "execution_count": 14,
     "metadata": {},
     "output_type": "execute_result"
    }
   ],
   "source": [
    "digitsTest = pd.read_csv('/home/dominik/Dokumenty/Studia/Data-mining/Lista5-trees/digits.tes', header=None)\n",
    "digitsTest.head()"
   ]
  },
  {
   "cell_type": "code",
   "execution_count": 15,
   "metadata": {},
   "outputs": [
    {
     "name": "stdout",
     "output_type": "stream",
     "text": [
      "0.973845297718\n",
      "0.976071229827\n",
      "0.977740678909\n",
      "0.976627712855\n",
      "0.9755147468\n"
     ]
    }
   ],
   "source": [
    "for k in range(1,10,2):\n",
    "    knn = KNN(k)\n",
    "    data = np.array(digitsTrain)\n",
    "    trainData = data[:,:-1]\n",
    "    traiLabels = data[:,-1]\n",
    "    knn.fit(trainData, traiLabels)\n",
    "    \n",
    "    test = np.array(digitsTest)\n",
    "    testData = test[:,:-1]\n",
    "    testLabels = test[:,-1]\n",
    "    \n",
    "    y = knn.predict(testData)\n",
    "    \n",
    "    print(np.sum(y == testLabels)/len(y))    "
   ]
  },
  {
   "cell_type": "markdown",
   "metadata": {},
   "source": [
    "### Iris cross validation"
   ]
  },
  {
   "cell_type": "code",
   "execution_count": 16,
   "metadata": {
    "collapsed": true
   },
   "outputs": [],
   "source": [
    "iris = datasets.load_iris()\n",
    "data = np.array(iris.data)\n",
    "labels = iris.target"
   ]
  },
  {
   "cell_type": "code",
   "execution_count": 17,
   "metadata": {},
   "outputs": [
    {
     "name": "stdout",
     "output_type": "stream",
     "text": [
      "1.0\n",
      "0.952380952381\n",
      "0.933333333333\n",
      "1.0\n",
      "0.894736842105\n",
      "0.882352941176\n",
      "1.0\n",
      "1.0\n",
      "0.9375\n",
      "0.777777777778\n",
      "Global error:  9\n"
     ]
    }
   ],
   "source": [
    "mask = np.random.uniform(0,1,150)\n",
    "err = 0\n",
    "for i in  range(10):\n",
    "    data_test = data[(mask >= i*0.1) & (mask < (i+1)*0.1),:]\n",
    "    data_train = data[(mask < i*0.1) | (mask >= (i+1)*0.1),:]\n",
    "    \n",
    "    labels_test = labels[(mask >= i*0.1) & (mask < (i+1)*0.1)]\n",
    "    labels_train = labels[(mask < i*0.1) | (mask >= (i+1)*0.1)]\n",
    "    \n",
    "    knn = KNN(1)\n",
    "    knn.fit(data_train, labels_train)\n",
    "    \n",
    "    y = knn.predict(data_test)\n",
    "    \n",
    "    err += np.sum(y != labels_test)\n",
    "    print(np.sum(y == labels_test)/len(y))\n",
    "print('Global error: ',err)"
   ]
  },
  {
   "cell_type": "code",
   "execution_count": 18,
   "metadata": {},
   "outputs": [
    {
     "name": "stdout",
     "output_type": "stream",
     "text": [
      "1.0\n",
      "0.923076923077\n",
      "1.0\n",
      "0.8\n",
      "1.0\n",
      "1.0\n",
      "1.0\n",
      "1.0\n",
      "0.888888888889\n",
      "0.947368421053\n",
      "Global error:  6\n"
     ]
    }
   ],
   "source": [
    "mask = np.random.uniform(0,1,150)\n",
    "err = 0\n",
    "for i in  range(10):\n",
    "    data_test = data[(mask >= i*0.1) & (mask < (i+1)*0.1),:]\n",
    "    data_train = data[(mask < i*0.1) | (mask >= (i+1)*0.1),:]\n",
    "    \n",
    "    labels_test = labels[(mask >= i*0.1) & (mask < (i+1)*0.1)]\n",
    "    labels_train = labels[(mask < i*0.1) | (mask >= (i+1)*0.1)]\n",
    "    \n",
    "    knn = KNN(5)\n",
    "    knn.fit(data_train, labels_train)\n",
    "    \n",
    "    y = knn.predict(data_test)\n",
    "    \n",
    "    err += np.sum(y != labels_test)\n",
    "    print(np.sum(y == labels_test)/len(y))\n",
    "print('Global error: ',err)"
   ]
  },
  {
   "cell_type": "code",
   "execution_count": 19,
   "metadata": {},
   "outputs": [
    {
     "name": "stdout",
     "output_type": "stream",
     "text": [
      "1.0\n",
      "0.9375\n",
      "1.0\n",
      "0.947368421053\n",
      "0.882352941176\n",
      "0.933333333333\n",
      "1.0\n",
      "0.9375\n",
      "1.0\n",
      "0.916666666667\n",
      "Global error:  7\n"
     ]
    }
   ],
   "source": [
    "mask = np.random.uniform(0,1,150)\n",
    "err = 0\n",
    "for i in  range(10):\n",
    "    data_test = data[(mask >= i*0.1) & (mask < (i+1)*0.1),:]\n",
    "    data_train = data[(mask < i*0.1) | (mask >= (i+1)*0.1),:]\n",
    "    \n",
    "    labels_test = labels[(mask >= i*0.1) & (mask < (i+1)*0.1)]\n",
    "    labels_train = labels[(mask < i*0.1) | (mask >= (i+1)*0.1)]\n",
    "    \n",
    "    knn = KNN(3)\n",
    "    knn.fit(data_train, labels_train)\n",
    "    \n",
    "    y = knn.predict(data_test)\n",
    "    \n",
    "    err += np.sum(y != labels_test)\n",
    "    print(np.sum(y == labels_test)/len(y))\n",
    "print('Global error: ',err)"
   ]
  },
  {
   "cell_type": "code",
   "execution_count": 20,
   "metadata": {},
   "outputs": [
    {
     "name": "stdout",
     "output_type": "stream",
     "text": [
      "1.0\n",
      "0.928571428571\n",
      "1.0\n",
      "0.9375\n",
      "1.0\n",
      "0.941176470588\n",
      "1.0\n",
      "1.0\n",
      "0.954545454545\n",
      "1.0\n",
      "Global error:  4\n"
     ]
    }
   ],
   "source": [
    "mask = np.random.uniform(0,1,150)\n",
    "err = 0\n",
    "for i in  range(10):\n",
    "    data_test = data[(mask >= i*0.1) & (mask < (i+1)*0.1),:]\n",
    "    data_train = data[(mask < i*0.1) | (mask >= (i+1)*0.1),:]\n",
    "    \n",
    "    labels_test = labels[(mask >= i*0.1) & (mask < (i+1)*0.1)]\n",
    "    labels_train = labels[(mask < i*0.1) | (mask >= (i+1)*0.1)]\n",
    "    \n",
    "    knn = KNN(7)\n",
    "    knn.fit(data_train, labels_train)\n",
    "    \n",
    "    y = knn.predict(data_test)\n",
    "    \n",
    "    err += np.sum(y != labels_test)\n",
    "    print(np.sum(y == labels_test)/len(y))\n",
    "print('Global error: ',err)"
   ]
  }
 ],
 "metadata": {
  "kernelspec": {
   "display_name": "Python 3",
   "language": "python",
   "name": "python3"
  },
  "language_info": {
   "codemirror_mode": {
    "name": "ipython",
    "version": 3
   },
   "file_extension": ".py",
   "mimetype": "text/x-python",
   "name": "python",
   "nbconvert_exporter": "python",
   "pygments_lexer": "ipython3",
   "version": "3.6.1"
  }
 },
 "nbformat": 4,
 "nbformat_minor": 2
}
