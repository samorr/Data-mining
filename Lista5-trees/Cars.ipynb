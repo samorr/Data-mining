{
 "cells": [
  {
   "cell_type": "code",
   "execution_count": 127,
   "metadata": {
    "collapsed": true
   },
   "outputs": [],
   "source": [
    "from sklearn.ensemble import RandomForestClassifier\n",
    "from sklearn.ensemble import ExtraTreesClassifier\n",
    "from sklearn import tree\n",
    "import numpy as np\n",
    "import pandas as pd\n",
    "from sklearn import metrics"
   ]
  },
  {
   "cell_type": "code",
   "execution_count": 128,
   "metadata": {},
   "outputs": [
    {
     "data": {
      "text/html": [
       "<div>\n",
       "<style>\n",
       "    .dataframe thead tr:only-child th {\n",
       "        text-align: right;\n",
       "    }\n",
       "\n",
       "    .dataframe thead th {\n",
       "        text-align: left;\n",
       "    }\n",
       "\n",
       "    .dataframe tbody tr th {\n",
       "        vertical-align: top;\n",
       "    }\n",
       "</style>\n",
       "<table border=\"1\" class=\"dataframe\">\n",
       "  <thead>\n",
       "    <tr style=\"text-align: right;\">\n",
       "      <th></th>\n",
       "      <th>buying</th>\n",
       "      <th>maint</th>\n",
       "      <th>doors</th>\n",
       "      <th>persons</th>\n",
       "      <th>lug_boot</th>\n",
       "      <th>safety</th>\n",
       "      <th>class</th>\n",
       "    </tr>\n",
       "  </thead>\n",
       "  <tbody>\n",
       "    <tr>\n",
       "      <th>0</th>\n",
       "      <td>vhigh</td>\n",
       "      <td>vhigh</td>\n",
       "      <td>2</td>\n",
       "      <td>2</td>\n",
       "      <td>small</td>\n",
       "      <td>low</td>\n",
       "      <td>unacc</td>\n",
       "    </tr>\n",
       "    <tr>\n",
       "      <th>1</th>\n",
       "      <td>vhigh</td>\n",
       "      <td>vhigh</td>\n",
       "      <td>2</td>\n",
       "      <td>2</td>\n",
       "      <td>small</td>\n",
       "      <td>med</td>\n",
       "      <td>unacc</td>\n",
       "    </tr>\n",
       "    <tr>\n",
       "      <th>2</th>\n",
       "      <td>vhigh</td>\n",
       "      <td>vhigh</td>\n",
       "      <td>2</td>\n",
       "      <td>2</td>\n",
       "      <td>small</td>\n",
       "      <td>high</td>\n",
       "      <td>unacc</td>\n",
       "    </tr>\n",
       "    <tr>\n",
       "      <th>3</th>\n",
       "      <td>vhigh</td>\n",
       "      <td>vhigh</td>\n",
       "      <td>2</td>\n",
       "      <td>2</td>\n",
       "      <td>med</td>\n",
       "      <td>low</td>\n",
       "      <td>unacc</td>\n",
       "    </tr>\n",
       "    <tr>\n",
       "      <th>4</th>\n",
       "      <td>vhigh</td>\n",
       "      <td>vhigh</td>\n",
       "      <td>2</td>\n",
       "      <td>2</td>\n",
       "      <td>med</td>\n",
       "      <td>med</td>\n",
       "      <td>unacc</td>\n",
       "    </tr>\n",
       "  </tbody>\n",
       "</table>\n",
       "</div>"
      ],
      "text/plain": [
       "  buying  maint doors persons lug_boot safety  class\n",
       "0  vhigh  vhigh     2       2    small    low  unacc\n",
       "1  vhigh  vhigh     2       2    small    med  unacc\n",
       "2  vhigh  vhigh     2       2    small   high  unacc\n",
       "3  vhigh  vhigh     2       2      med    low  unacc\n",
       "4  vhigh  vhigh     2       2      med    med  unacc"
      ]
     },
     "execution_count": 128,
     "metadata": {},
     "output_type": "execute_result"
    }
   ],
   "source": [
    "data = pd.read_csv('/home/dominik/Dokumenty/Studia/Data-mining/Lista5-trees/cars.data',names=['buying', 'maint', 'doors', 'persons', 'lug_boot', 'safety', 'class'])\n",
    "data.head()"
   ]
  },
  {
   "cell_type": "code",
   "execution_count": 129,
   "metadata": {},
   "outputs": [
    {
     "data": {
      "text/plain": [
       "False"
      ]
     },
     "execution_count": 129,
     "metadata": {},
     "output_type": "execute_result"
    }
   ],
   "source": [
    "np.any(data.isnull())"
   ]
  },
  {
   "cell_type": "code",
   "execution_count": 130,
   "metadata": {},
   "outputs": [
    {
     "data": {
      "text/html": [
       "<div>\n",
       "<style>\n",
       "    .dataframe thead tr:only-child th {\n",
       "        text-align: right;\n",
       "    }\n",
       "\n",
       "    .dataframe thead th {\n",
       "        text-align: left;\n",
       "    }\n",
       "\n",
       "    .dataframe tbody tr th {\n",
       "        vertical-align: top;\n",
       "    }\n",
       "</style>\n",
       "<table border=\"1\" class=\"dataframe\">\n",
       "  <thead>\n",
       "    <tr style=\"text-align: right;\">\n",
       "      <th></th>\n",
       "      <th>buying</th>\n",
       "      <th>maint</th>\n",
       "      <th>doors</th>\n",
       "      <th>persons</th>\n",
       "      <th>lug_boot</th>\n",
       "      <th>safety</th>\n",
       "      <th>class</th>\n",
       "    </tr>\n",
       "  </thead>\n",
       "  <tbody>\n",
       "    <tr>\n",
       "      <th>0</th>\n",
       "      <td>3</td>\n",
       "      <td>3</td>\n",
       "      <td>0</td>\n",
       "      <td>0</td>\n",
       "      <td>2</td>\n",
       "      <td>1</td>\n",
       "      <td>2</td>\n",
       "    </tr>\n",
       "    <tr>\n",
       "      <th>1</th>\n",
       "      <td>3</td>\n",
       "      <td>3</td>\n",
       "      <td>0</td>\n",
       "      <td>0</td>\n",
       "      <td>2</td>\n",
       "      <td>2</td>\n",
       "      <td>2</td>\n",
       "    </tr>\n",
       "    <tr>\n",
       "      <th>2</th>\n",
       "      <td>3</td>\n",
       "      <td>3</td>\n",
       "      <td>0</td>\n",
       "      <td>0</td>\n",
       "      <td>2</td>\n",
       "      <td>0</td>\n",
       "      <td>2</td>\n",
       "    </tr>\n",
       "    <tr>\n",
       "      <th>3</th>\n",
       "      <td>3</td>\n",
       "      <td>3</td>\n",
       "      <td>0</td>\n",
       "      <td>0</td>\n",
       "      <td>1</td>\n",
       "      <td>1</td>\n",
       "      <td>2</td>\n",
       "    </tr>\n",
       "    <tr>\n",
       "      <th>4</th>\n",
       "      <td>3</td>\n",
       "      <td>3</td>\n",
       "      <td>0</td>\n",
       "      <td>0</td>\n",
       "      <td>1</td>\n",
       "      <td>2</td>\n",
       "      <td>2</td>\n",
       "    </tr>\n",
       "  </tbody>\n",
       "</table>\n",
       "</div>"
      ],
      "text/plain": [
       "   buying  maint  doors  persons  lug_boot  safety  class\n",
       "0       3      3      0        0         2       1      2\n",
       "1       3      3      0        0         2       2      2\n",
       "2       3      3      0        0         2       0      2\n",
       "3       3      3      0        0         1       1      2\n",
       "4       3      3      0        0         1       2      2"
      ]
     },
     "execution_count": 130,
     "metadata": {},
     "output_type": "execute_result"
    }
   ],
   "source": [
    "for name in data.columns.values:\n",
    "    data[name] = pd.Categorical(data[name]).codes\n",
    "\n",
    "data.head()"
   ]
  },
  {
   "cell_type": "code",
   "execution_count": 131,
   "metadata": {},
   "outputs": [
    {
     "name": "stdout",
     "output_type": "stream",
     "text": [
      "(1186, 6)\n",
      "(542, 6)\n"
     ]
    },
    {
     "data": {
      "text/plain": [
       "0.96125461254612543"
      ]
     },
     "execution_count": 131,
     "metadata": {},
     "output_type": "execute_result"
    }
   ],
   "source": [
    "mask = np.random.uniform(0,1, len(data))\n",
    "train_data = data[mask <= 0.7]\n",
    "test_data = data[mask > 0.7]\n",
    "\n",
    "y = train_data['class']\n",
    "X = train_data.drop('class', axis=1)\n",
    "print(X.shape)\n",
    "\n",
    "t = tree.DecisionTreeClassifier()\n",
    "t = t.fit(X,y)\n",
    "\n",
    "y = test_data['class']\n",
    "X = test_data.drop('class', axis=1)\n",
    "print(X.shape)\n",
    "\n",
    "\n",
    "t.score(X,y)"
   ]
  },
  {
   "cell_type": "code",
   "execution_count": 132,
   "metadata": {},
   "outputs": [
    {
     "data": {
      "text/plain": [
       "array([ 0.23925599,  0.15834928,  0.05330869,  0.19374095,  0.09849719,\n",
       "        0.2568479 ])"
      ]
     },
     "execution_count": 132,
     "metadata": {},
     "output_type": "execute_result"
    }
   ],
   "source": [
    "importances = t.tree_.compute_feature_importances()\n",
    "importances"
   ]
  },
  {
   "cell_type": "code",
   "execution_count": 133,
   "metadata": {
    "collapsed": true
   },
   "outputs": [],
   "source": [
    "clearMask = [i+1 for i in range(len(importances)) if importances[i] < 0.04]\n",
    "clearedData = data.drop(data.columns.values[clearMask],axis=1)"
   ]
  },
  {
   "cell_type": "code",
   "execution_count": 134,
   "metadata": {},
   "outputs": [
    {
     "name": "stdout",
     "output_type": "stream",
     "text": [
      "(1225, 6)\n",
      "(503, 6)\n"
     ]
    },
    {
     "data": {
      "text/plain": [
       "0.95029821073558651"
      ]
     },
     "execution_count": 134,
     "metadata": {},
     "output_type": "execute_result"
    }
   ],
   "source": [
    "mask = np.random.uniform(0,1, len(clearedData))\n",
    "train_data = clearedData[mask <= 0.7]\n",
    "test_data = clearedData[mask > 0.7]\n",
    "\n",
    "y = train_data['class']\n",
    "X = train_data.drop('class', axis=1)\n",
    "print(X.shape)\n",
    "\n",
    "t = tree.DecisionTreeClassifier(max_depth=10, min_samples_split=6)\n",
    "t = t.fit(X,y)\n",
    "\n",
    "y = test_data['class']\n",
    "X = test_data.drop('class', axis=1)\n",
    "print(X.shape)\n",
    "\n",
    "\n",
    "t.score(X,y)"
   ]
  },
  {
   "cell_type": "code",
   "execution_count": 135,
   "metadata": {},
   "outputs": [
    {
     "name": "stdout",
     "output_type": "stream",
     "text": [
      "Confusion Matrix\n",
      " [[100   9   4   2]\n",
      " [  0  16   0   0]\n",
      " [  7   0 346   0]\n",
      " [  0   3   0  16]]\n"
     ]
    }
   ],
   "source": [
    "confusion_matrix = metrics.confusion_matrix(y, t.predict(X))\n",
    "print (\"Confusion Matrix\\n\", confusion_matrix)"
   ]
  },
  {
   "cell_type": "code",
   "execution_count": 136,
   "metadata": {},
   "outputs": [
    {
     "name": "stdout",
     "output_type": "stream",
     "text": [
      "             precision    recall  f1-score   support\n",
      "\n",
      "      unacc       0.93      0.87      0.90       115\n",
      "        acc       0.57      1.00      0.73        16\n",
      "       good       0.99      0.98      0.98       353\n",
      "     v-good       0.89      0.84      0.86        19\n",
      "\n",
      "avg / total       0.96      0.95      0.95       503\n",
      "\n"
     ]
    }
   ],
   "source": [
    "from sklearn.metrics import classification_report\n",
    "print(classification_report(y, \n",
    "                            t.predict(X), \n",
    "                            target_names=['unacc', 'acc', 'good', 'v-good']))"
   ]
  },
  {
   "cell_type": "code",
   "execution_count": 137,
   "metadata": {},
   "outputs": [
    {
     "name": "stdout",
     "output_type": "stream",
     "text": [
      "(1217, 6)\n",
      "(511, 6)\n"
     ]
    },
    {
     "data": {
      "text/plain": [
       "0.95694716242661448"
      ]
     },
     "execution_count": 137,
     "metadata": {},
     "output_type": "execute_result"
    }
   ],
   "source": [
    "mask = np.random.uniform(0,1, len(clearedData))\n",
    "train_data = clearedData[mask <= 0.7]\n",
    "test_data = clearedData[mask > 0.7]\n",
    "\n",
    "y = train_data['class']\n",
    "X = train_data.drop('class', axis=1)\n",
    "print(X.shape)\n",
    "\n",
    "f = RandomForestClassifier()\n",
    "f = f.fit(X,y)\n",
    "\n",
    "y = test_data['class']\n",
    "X = test_data.drop('class', axis=1)\n",
    "print(X.shape)\n",
    "\n",
    "\n",
    "f.score(X,y)"
   ]
  },
  {
   "cell_type": "code",
   "execution_count": 138,
   "metadata": {},
   "outputs": [
    {
     "name": "stdout",
     "output_type": "stream",
     "text": [
      "Confusion Matrix\n",
      " [[100   4  10   1]\n",
      " [  1  13   0   0]\n",
      " [  4   0 352   0]\n",
      " [  2   0   0  24]]\n"
     ]
    }
   ],
   "source": [
    "confusion_matrix = metrics.confusion_matrix(y, f.predict(X))\n",
    "print (\"Confusion Matrix\\n\", confusion_matrix)"
   ]
  },
  {
   "cell_type": "code",
   "execution_count": 139,
   "metadata": {},
   "outputs": [
    {
     "name": "stdout",
     "output_type": "stream",
     "text": [
      "             precision    recall  f1-score   support\n",
      "\n",
      "      unacc       0.93      0.87      0.90       115\n",
      "        acc       0.76      0.93      0.84        14\n",
      "       good       0.97      0.99      0.98       356\n",
      "     v-good       0.96      0.92      0.94        26\n",
      "\n",
      "avg / total       0.96      0.96      0.96       511\n",
      "\n"
     ]
    }
   ],
   "source": [
    "print(classification_report(y, \n",
    "                            f.predict(X), \n",
    "                            target_names=['unacc', 'acc', 'good', 'v-good']))"
   ]
  },
  {
   "cell_type": "code",
   "execution_count": 140,
   "metadata": {},
   "outputs": [
    {
     "name": "stdout",
     "output_type": "stream",
     "text": [
      "(1159, 6)\n",
      "(569, 6)\n"
     ]
    },
    {
     "data": {
      "text/plain": [
       "0.91915641476274168"
      ]
     },
     "execution_count": 140,
     "metadata": {},
     "output_type": "execute_result"
    }
   ],
   "source": [
    "mask = np.random.uniform(0,1, len(clearedData))\n",
    "train_data = clearedData[mask <= 0.7]\n",
    "test_data = clearedData[mask > 0.7]\n",
    "\n",
    "y = train_data['class']\n",
    "X = train_data.drop('class', axis=1)\n",
    "print(X.shape)\n",
    "\n",
    "f = ExtraTreesClassifier(max_depth=10, min_samples_split=8)\n",
    "f = f.fit(X,y)\n",
    "\n",
    "y = test_data['class']\n",
    "X = test_data.drop('class', axis=1)\n",
    "print(X.shape)\n",
    "\n",
    "\n",
    "f.score(X,y)"
   ]
  },
  {
   "cell_type": "code",
   "execution_count": 141,
   "metadata": {},
   "outputs": [
    {
     "name": "stdout",
     "output_type": "stream",
     "text": [
      "Confusion Matrix\n",
      " [[115   0  20   0]\n",
      " [ 17   5   1   2]\n",
      " [  6   0 387   0]\n",
      " [  0   0   0  16]]\n"
     ]
    }
   ],
   "source": [
    "confusion_matrix = metrics.confusion_matrix(y, f.predict(X))\n",
    "print (\"Confusion Matrix\\n\", confusion_matrix)"
   ]
  },
  {
   "cell_type": "code",
   "execution_count": 142,
   "metadata": {},
   "outputs": [
    {
     "name": "stdout",
     "output_type": "stream",
     "text": [
      "             precision    recall  f1-score   support\n",
      "\n",
      "      unacc       0.83      0.85      0.84       135\n",
      "        acc       1.00      0.20      0.33        25\n",
      "       good       0.95      0.98      0.97       393\n",
      "     v-good       0.89      1.00      0.94        16\n",
      "\n",
      "avg / total       0.92      0.92      0.91       569\n",
      "\n"
     ]
    }
   ],
   "source": [
    "print(classification_report(y, \n",
    "                            f.predict(X), \n",
    "                            target_names=['unacc', 'acc', 'good', 'v-good']))"
   ]
  },
  {
   "cell_type": "code",
   "execution_count": 143,
   "metadata": {},
   "outputs": [
    {
     "name": "stdout",
     "output_type": "stream",
     "text": [
      "0.956043956044\n",
      "0.964071856287\n",
      "0.951219512195\n",
      "0.938271604938\n",
      "0.965714285714\n",
      "0.949152542373\n",
      "0.97191011236\n",
      "0.939393939394\n",
      "0.941860465116\n",
      "0.967741935484\n",
      "Average score:  0.954538020991\n"
     ]
    }
   ],
   "source": [
    "clearedData['train'] = np.random.uniform(0, 1, len(clearedData))\n",
    "err = 0\n",
    "for i in range(10):\n",
    "    data_test = clearedData[(clearedData['train'] >= i*0.1) & (clearedData['train'] < (i+1)*0.1)]\n",
    "    data_train = clearedData[(clearedData['train'] < i*0.1) | (clearedData['train'] >= (i+1)*0.1)]\n",
    "\n",
    "    y = data_train['class']\n",
    "    X = data_train.drop('class', axis = 1).drop('train',axis=1)\n",
    "\n",
    "    t = tree.DecisionTreeClassifier(max_depth=10, min_samples_split=6)\n",
    "    t = t.fit(X, y)\n",
    "#     print('depth', [i.tree_.max_depth for i in t.estimators_])\n",
    "    y = data_test['class']\n",
    "    X = data_test.drop('class', axis = 1).drop('train',axis=1)\n",
    "    print(t.score(X,y))\n",
    "    err += t.score(X,y) / 10\n",
    "\n",
    "print('Average score: ',err)"
   ]
  },
  {
   "cell_type": "code",
   "execution_count": 144,
   "metadata": {},
   "outputs": [
    {
     "name": "stdout",
     "output_type": "stream",
     "text": [
      "0.932584269663\n",
      "0.965317919075\n",
      "0.957831325301\n",
      "0.980487804878\n",
      "0.98224852071\n",
      "0.962732919255\n",
      "0.963855421687\n",
      "0.93023255814\n",
      "0.977777777778\n",
      "0.943037974684\n",
      "Average score:  0.959610649117\n"
     ]
    }
   ],
   "source": [
    "clearedData['train'] = np.random.uniform(0, 1, len(clearedData))\n",
    "err = 0\n",
    "for i in range(10):\n",
    "    data_test = clearedData[(clearedData['train'] >= i*0.1) & (clearedData['train'] < (i+1)*0.1)]\n",
    "    data_train = clearedData[(clearedData['train'] < i*0.1) | (clearedData['train'] >= (i+1)*0.1)]\n",
    "\n",
    "    y = data_train['class']\n",
    "    X = data_train.drop('class', axis = 1).drop('train',axis=1)\n",
    "\n",
    "    f = RandomForestClassifier()\n",
    "    f = f.fit(X, y)\n",
    "#     print('depth', [i.tree_.max_depth for i in t.estimators_])\n",
    "    y = data_test['class']\n",
    "    X = data_test.drop('class', axis = 1).drop('train',axis=1)\n",
    "    print(f.score(X,y))\n",
    "    err += f.score(X,y) / 10\n",
    "\n",
    "print('Average score: ',err)"
   ]
  },
  {
   "cell_type": "code",
   "execution_count": 145,
   "metadata": {},
   "outputs": [
    {
     "name": "stdout",
     "output_type": "stream",
     "text": [
      "0.943820224719\n",
      "0.947976878613\n",
      "0.969879518072\n",
      "0.965853658537\n",
      "0.952662721893\n",
      "0.931677018634\n",
      "0.951807228916\n",
      "0.953488372093\n",
      "0.927777777778\n",
      "0.924050632911\n",
      "Average score:  0.946899403217\n"
     ]
    }
   ],
   "source": [
    "data['train'] = np.random.uniform(0, 1, len(clearedData))\n",
    "err = 0\n",
    "for i in range(10):\n",
    "    data_test = clearedData[(clearedData['train'] >= i*0.1) & (clearedData['train'] < (i+1)*0.1)]\n",
    "    data_train = clearedData[(clearedData['train'] < i*0.1) | (clearedData['train'] >= (i+1)*0.1)]\n",
    "\n",
    "    y = data_train['class']\n",
    "    X = data_train.drop('class', axis = 1).drop('train',axis=1)\n",
    "\n",
    "    f = ExtraTreesClassifier()\n",
    "    f = f.fit(X, y)\n",
    "#     print('depth', [i.tree_.max_depth for i in t.estimators_])\n",
    "    y = data_test['class']\n",
    "    X = data_test.drop('class', axis = 1).drop('train',axis=1)\n",
    "    print(f.score(X,y))\n",
    "    err += f.score(X,y) / 10\n",
    "\n",
    "print('Average score: ',err)"
   ]
  }
 ],
 "metadata": {
  "kernelspec": {
   "display_name": "Python 3",
   "language": "python",
   "name": "python3"
  },
  "language_info": {
   "codemirror_mode": {
    "name": "ipython",
    "version": 3
   },
   "file_extension": ".py",
   "mimetype": "text/x-python",
   "name": "python",
   "nbconvert_exporter": "python",
   "pygments_lexer": "ipython3",
   "version": "3.6.1"
  }
 },
 "nbformat": 4,
 "nbformat_minor": 2
}
