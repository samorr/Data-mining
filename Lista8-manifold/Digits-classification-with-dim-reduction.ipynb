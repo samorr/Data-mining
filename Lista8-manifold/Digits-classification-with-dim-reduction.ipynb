{
 "cells": [
  {
   "cell_type": "code",
   "execution_count": 4,
   "metadata": {
    "collapsed": true
   },
   "outputs": [],
   "source": [
    "% matplotlib inline\n",
    "\n",
    "import numpy as np\n",
    "import matplotlib.pyplot as plt\n",
    "\n",
    "from sklearn import (datasets, decomposition, ensemble, manifold, random_projection)\n",
    "from sklearn.neighbors import KNeighborsClassifier"
   ]
  },
  {
   "cell_type": "code",
   "execution_count": 2,
   "metadata": {
    "collapsed": true
   },
   "outputs": [],
   "source": [
    "def plot_digits(X, y):\n",
    "    X = (X - np.min(X, 0)) / (np.max(X, 0) - np.min(X, 0))\n",
    "\n",
    "    plt.figure(figsize=(12, 9))\n",
    "\n",
    "    for i in range(X.shape[0]):\n",
    "        plt.text(X[i, 0], X[i, 1], str(y[i]), color=plt.cm.Set1(0.1*y[i]), fontdict={'weight':'bold', 'size':8})\n",
    "\n",
    "    plt.xticks([])\n",
    "    plt.yticks([])\n",
    "    plt.show()"
   ]
  },
  {
   "cell_type": "code",
   "execution_count": 8,
   "metadata": {},
   "outputs": [
    {
     "data": {
      "text/plain": [
       "1797"
      ]
     },
     "execution_count": 8,
     "metadata": {},
     "output_type": "execute_result"
    }
   ],
   "source": [
    "digits = datasets.load_digits()\n",
    "X = digits.data\n",
    "y = digits.target\n",
    "N, d = X.shape\n",
    "N"
   ]
  },
  {
   "cell_type": "code",
   "execution_count": 11,
   "metadata": {
    "collapsed": true
   },
   "outputs": [],
   "source": [
    "def crossVal(X,y,k,valtimes):\n",
    "    err = 0\n",
    "    data = np.append(X,y[:,np.newaxis], axis=1)\n",
    "    for i in range(valtimes):\n",
    "        np.random.shuffle(data)\n",
    "        trainData = data[:-300,:-1]\n",
    "        trainLabels = data[:-300,-1]\n",
    "        testData = data[-300:,:-1]\n",
    "        testLabels = data[-300:,-1]\n",
    "        knn = KNeighborsClassifier(k)\n",
    "        knn.fit(trainData,trainLabels)\n",
    "        predictedLabels = knn.predict(testData)\n",
    "        err += np.sum((predictedLabels != testLabels).astype(np.int))\n",
    "    err /= valtimes\n",
    "    return err"
   ]
  },
  {
   "cell_type": "markdown",
   "metadata": {},
   "source": [
    "## Cross validation without dim reduction"
   ]
  },
  {
   "cell_type": "code",
   "execution_count": 13,
   "metadata": {},
   "outputs": [
    {
     "name": "stdout",
     "output_type": "stream",
     "text": [
      "3.3\n",
      "3.9\n",
      "3.7\n",
      "4.9\n",
      "5.1\n"
     ]
    }
   ],
   "source": [
    "for k in range(1,10,2):\n",
    "    print(crossVal(X,y,k,10))"
   ]
  },
  {
   "cell_type": "markdown",
   "metadata": {},
   "source": [
    "## Cross validation for PCA"
   ]
  },
  {
   "cell_type": "code",
   "execution_count": 17,
   "metadata": {},
   "outputs": [
    {
     "name": "stdout",
     "output_type": "stream",
     "text": [
      "125.6\n",
      "123.0\n",
      "109.0\n",
      "109.3\n",
      "109.5\n",
      "105.2\n",
      "103.8\n",
      "105.2\n"
     ]
    }
   ],
   "source": [
    "X_pca = decomposition.PCA(n_components=2, svd_solver='full').fit_transform(X)\n",
    "for k in range(1,16,2):\n",
    "    print(crossVal(X_pca,y,k,10))"
   ]
  },
  {
   "cell_type": "markdown",
   "metadata": {},
   "source": [
    "## Cross validation for KPCA"
   ]
  },
  {
   "cell_type": "code",
   "execution_count": 18,
   "metadata": {},
   "outputs": [
    {
     "name": "stdout",
     "output_type": "stream",
     "text": [
      "138.3\n",
      "132.8\n",
      "128.5\n",
      "128.3\n",
      "121.5\n",
      "125.3\n",
      "124.3\n",
      "124.7\n"
     ]
    }
   ],
   "source": [
    "X_kpca = decomposition.KernelPCA(n_components=2, kernel=\"poly\", degree=3, gamma=10).fit_transform(X)\n",
    "for k in range(1,16,2):\n",
    "    print(crossVal(X_kpca,y,k,10))"
   ]
  },
  {
   "cell_type": "markdown",
   "metadata": {},
   "source": [
    "## Cross validation for Isomap"
   ]
  },
  {
   "cell_type": "code",
   "execution_count": 19,
   "metadata": {},
   "outputs": [
    {
     "name": "stdout",
     "output_type": "stream",
     "text": [
      "91.6\n",
      "81.1\n",
      "73.4\n",
      "71.5\n",
      "71.1\n",
      "69.9\n",
      "69.9\n",
      "75.1\n"
     ]
    }
   ],
   "source": [
    "X_iso = manifold.Isomap(30, n_components=2).fit_transform(X)\n",
    "for k in range(1,16,2):\n",
    "    print(crossVal(X_iso,y,k,10))"
   ]
  },
  {
   "cell_type": "markdown",
   "metadata": {},
   "source": [
    "## Cross validation for LLE"
   ]
  },
  {
   "cell_type": "code",
   "execution_count": 20,
   "metadata": {},
   "outputs": [
    {
     "name": "stdout",
     "output_type": "stream",
     "text": [
      "214.9\n",
      "203.3\n",
      "200.4\n",
      "196.1\n",
      "196.5\n",
      "198.0\n",
      "195.9\n",
      "198.2\n"
     ]
    }
   ],
   "source": [
    "X_lle = manifold.LocallyLinearEmbedding(30, n_components=2, reg=0.0001).fit_transform(X)\n",
    "for k in range(1,16,2):\n",
    "    print(crossVal(X_lle,y,k,10))"
   ]
  },
  {
   "cell_type": "markdown",
   "metadata": {},
   "source": [
    "## Cross validation for MDS"
   ]
  },
  {
   "cell_type": "code",
   "execution_count": 21,
   "metadata": {},
   "outputs": [
    {
     "name": "stdout",
     "output_type": "stream",
     "text": [
      "142.8\n",
      "118.4\n",
      "114.1\n",
      "115.7\n",
      "112.5\n",
      "110.7\n",
      "110.6\n",
      "111.5\n"
     ]
    }
   ],
   "source": [
    "X_mds = manifold.MDS(n_components=2, eps=1e-4,n_init=1, max_iter=100).fit_transform(X)\n",
    "for k in range(1,16,2):\n",
    "    print(crossVal(X_mds,y,k,10))"
   ]
  },
  {
   "cell_type": "markdown",
   "metadata": {},
   "source": [
    "## Cross validation for t-SNE"
   ]
  },
  {
   "cell_type": "code",
   "execution_count": 22,
   "metadata": {},
   "outputs": [
    {
     "name": "stdout",
     "output_type": "stream",
     "text": [
      "5.2\n",
      "4.1\n",
      "4.4\n",
      "3.6\n",
      "4.4\n",
      "4.8\n",
      "5.5\n",
      "4.4\n"
     ]
    }
   ],
   "source": [
    "X_tsne = manifold.TSNE(n_components=2, init='random', learning_rate=1000).fit_transform(X)\n",
    "for k in range(1,16,2):\n",
    "    print(crossVal(X_tsne,y,k,10))"
   ]
  }
 ],
 "metadata": {
  "kernelspec": {
   "display_name": "Python 3",
   "language": "python",
   "name": "python3"
  },
  "language_info": {
   "codemirror_mode": {
    "name": "ipython",
    "version": 3
   },
   "file_extension": ".py",
   "mimetype": "text/x-python",
   "name": "python",
   "nbconvert_exporter": "python",
   "pygments_lexer": "ipython3",
   "version": "3.6.1"
  }
 },
 "nbformat": 4,
 "nbformat_minor": 2
}
