{
 "cells": [
  {
   "cell_type": "code",
   "execution_count": 1,
   "metadata": {
    "collapsed": true
   },
   "outputs": [],
   "source": [
    "import numpy as np\n",
    "import pandas as pd\n",
    "import matplotlib.pyplot as plt"
   ]
  },
  {
   "cell_type": "code",
   "execution_count": 35,
   "metadata": {},
   "outputs": [],
   "source": [
    "allTransactions = np.array([np.array([int(id) for id in line.split()]) for line in open(\"kosarak.dat\")])"
   ]
  },
  {
   "cell_type": "code",
   "execution_count": 36,
   "metadata": {
    "collapsed": true
   },
   "outputs": [],
   "source": [
    "occurences = {}\n",
    "\n",
    "for i in range(len(allTransactions)):\n",
    "    for j in range(len(allTransactions[i])):\n",
    "        if not allTransactions[i][j] in occurences:\n",
    "            occurences[allTransactions[i][j]] = 0\n",
    "        occurences[allTransactions[i][j]] += 1"
   ]
  },
  {
   "cell_type": "code",
   "execution_count": 37,
   "metadata": {},
   "outputs": [
    {
     "data": {
      "text/plain": [
       "41270"
      ]
     },
     "execution_count": 37,
     "metadata": {},
     "output_type": "execute_result"
    }
   ],
   "source": [
    "max(occurences.keys()) # because we need highiest 1000 values is better to sort than to find them one by one"
   ]
  },
  {
   "cell_type": "code",
   "execution_count": 42,
   "metadata": {},
   "outputs": [],
   "source": [
    "sortedTransactions = sorted(occurences,key=occurences.__getitem__, reverse=True)"
   ]
  },
  {
   "cell_type": "code",
   "execution_count": 48,
   "metadata": {},
   "outputs": [],
   "source": [
    "T = 1000\n",
    "translations = {}\n",
    "retranslations = {}\n",
    "transData = np.array(sortedTransactions[:T])\n",
    "for i in range(T):\n",
    "    translations[i] = transData[i]\n",
    "    retranslations[transData[i]] = i"
   ]
  },
  {
   "cell_type": "code",
   "execution_count": 51,
   "metadata": {},
   "outputs": [],
   "source": [
    "data = np.zeros((T,T))\n",
    "for line in allTransactions:\n",
    "    importantTrans = [retranslations[i] for i in line if i in transData]\n",
    "    for transId in importantTrans:\n",
    "        for transId2 in importantTrans:\n",
    "            if transId2 != transId:\n",
    "                data[transId,transId2] += 1"
   ]
  },
  {
   "cell_type": "code",
   "execution_count": 52,
   "metadata": {
    "collapsed": true
   },
   "outputs": [],
   "source": [
    "def averageDistToCenter(X,C):\n",
    "    avdist = np.sum(np.sqrt(np.sum((X - C)**2,axis=0)),axis=0)\n",
    "    avdist /= np.maximum(np.size(X,axis=1),1)\n",
    "    return avdist\n",
    "\n",
    "def KMeans(K, X, doPrinting=False):\n",
    "    d = np.size(X,axis=0)\n",
    "    N = np.size(X,axis=1)\n",
    "    I = np.eye(K)\n",
    "    R = X[:,np.random.randint(0,N,K)] #random start centers\n",
    "    M = np.zeros((d,K)).astype(int)\n",
    "    changes = True\n",
    "    iters = 0\n",
    "    while changes:\n",
    "#         D = np.sum((R.T[np.newaxis,:,:] - X.T[:,np.newaxis,:])**2., axis=-1).T # distances from centers\n",
    "        D = -2. * np.dot(X.T,R) + np.sum(R**2,axis=0,keepdims=True)# it is not necessary to add X^2\n",
    "        m = np.argmin(D, axis=1)\n",
    "        newM = np.take(I,m,axis=0).astype(int) # matrix of membership\n",
    "        changes = not np.array_equal(M,newM)\n",
    "        M = newM\n",
    "        R = np.dot(X,M)/np.maximum(np.sum(M.T,axis=1),1) # new centers\n",
    "        iters +=1\n",
    "    if doPrinting:\n",
    "        avDistToCenter = np.array([averageDistToCenter(X[:,M[:,i] == 1], R[:,i,np.newaxis]) for i in range(K)])\n",
    "        groupSizes = np.sum(M.T,axis=1)\n",
    "        print('Average distance to center within groups:\\n',avDistToCenter)\n",
    "        print(\"Iterations: \", iters, \"\\n\")\n",
    "        print(\"Group sizes: \", groupSizes, \"\\n\")\n",
    "    return R, M, m, groupSizes"
   ]
  },
  {
   "cell_type": "code",
   "execution_count": 53,
   "metadata": {
    "collapsed": true
   },
   "outputs": [],
   "source": [
    "data = data.T"
   ]
  },
  {
   "cell_type": "code",
   "execution_count": 124,
   "metadata": {
    "scrolled": true
   },
   "outputs": [
    {
     "name": "stdout",
     "output_type": "stream",
     "text": [
      "Average distance to center within groups:\n",
      " [   5591.18567547   54344.9277638   221715.084201     11202.27631296\n",
      "    4297.27399458    6534.73448426    2638.57089197    2201.26699028\n",
      "   14219.01361517    1821.66812251]\n",
      "Iterations:  36 \n",
      "\n",
      "Group sizes:  [ 35   5   3  23 108  51 350 401   7  17] \n",
      "\n"
     ]
    }
   ],
   "source": [
    "K = 10\n",
    "R, M, m, sizes = KMeans(K, data, doPrinting=True)"
   ]
  },
  {
   "cell_type": "code",
   "execution_count": 125,
   "metadata": {},
   "outputs": [
    {
     "name": "stdout",
     "output_type": "stream",
     "text": [
      "4\n",
      "55\n",
      "64\n",
      "77\n",
      "2\n",
      "138\n",
      "83\n"
     ]
    }
   ],
   "source": [
    "for i in range(T):\n",
    "    if m[i] == 8:\n",
    "        print(translations[i])"
   ]
  },
  {
   "cell_type": "markdown",
   "metadata": {},
   "source": [
    "### Wcześniej na przekątnej macierzy odległości mieliśmy zera, teraz będziemy tam trzymać liczbę występowań danego produktu w transakcjach"
   ]
  },
  {
   "cell_type": "code",
   "execution_count": 84,
   "metadata": {
    "collapsed": true
   },
   "outputs": [],
   "source": [
    "data1 = np.zeros((T,T))\n",
    "for line in allTransactions:\n",
    "    importantTrans = [retranslations[i] for i in line if i in transData]\n",
    "    for transId in importantTrans:\n",
    "        for transId2 in importantTrans:\n",
    "            data1[transId,transId2] += 1"
   ]
  },
  {
   "cell_type": "code",
   "execution_count": 85,
   "metadata": {
    "collapsed": true
   },
   "outputs": [],
   "source": [
    "data1 = data1.T"
   ]
  },
  {
   "cell_type": "code",
   "execution_count": 153,
   "metadata": {},
   "outputs": [
    {
     "name": "stdout",
     "output_type": "stream",
     "text": [
      "Average distance to center within groups:\n",
      " [   6081.62488489    3149.68846909    2166.26302556    2386.89386753\n",
      "   12607.04535321    2737.74363055    1966.75419504   45273.11051555\n",
      "    6469.9147516    19537.02256516    5095.73250697    2402.85993299\n",
      "       0.            3297.30079866    2492.08978891    8963.04077253\n",
      "  211834.28539285    2075.5518236    89036.9394518    17499.42306611\n",
      "    3998.40888502    3837.97502475       0.            3555.65223895\n",
      "    2646.75536389]\n",
      "Iterations:  23 \n",
      "\n",
      "Group sizes:  [ 52  28  54  57  14  78  92   7  33  14  19 105   0  34  13  30   3 177\n",
      "   5  12  41  62   1  53  16] \n",
      "\n"
     ]
    }
   ],
   "source": [
    "K = 25\n",
    "R, M, m, sizes = KMeans(K, data1, doPrinting=True)"
   ]
  },
  {
   "cell_type": "code",
   "execution_count": 155,
   "metadata": {},
   "outputs": [
    {
     "name": "stdout",
     "output_type": "stream",
     "text": [
      "6\n",
      "3\n",
      "11\n"
     ]
    }
   ],
   "source": [
    "for i in range(T):\n",
    "    if m[i] == 16:\n",
    "        print(translations[i])"
   ]
  },
  {
   "cell_type": "markdown",
   "metadata": {},
   "source": [
    "### Za każdym razem pojawiają się grupy wielkości 3 i 5, czasem grupa wielkości 7. Drugi sposób wydaje się je wskazywać w sposób stabilniejszy"
   ]
  },
  {
   "cell_type": "code",
   "execution_count": 156,
   "metadata": {
    "collapsed": true
   },
   "outputs": [],
   "source": [
    "T = 500\n",
    "translations = {}\n",
    "retranslations = {}\n",
    "transData = np.array(sortedTransactions[:T])\n",
    "for i in range(T):\n",
    "    translations[i] = transData[i]\n",
    "    retranslations[transData[i]] = i"
   ]
  },
  {
   "cell_type": "code",
   "execution_count": 157,
   "metadata": {
    "collapsed": true
   },
   "outputs": [],
   "source": [
    "data500 = np.zeros((T,T))\n",
    "for line in allTransactions:\n",
    "    importantTrans = [retranslations[i] for i in line if i in transData]\n",
    "    for transId in importantTrans:\n",
    "        for transId2 in importantTrans:\n",
    "            data500[transId,transId2] += 1"
   ]
  },
  {
   "cell_type": "code",
   "execution_count": 201,
   "metadata": {},
   "outputs": [
    {
     "name": "stdout",
     "output_type": "stream",
     "text": [
      "Average distance to center within groups:\n",
      " [   2474.32880326   88787.36930363    4610.76653344   33448.78469266\n",
      "  211705.11722792    4499.46921716   14001.82636153    3729.00950563\n",
      "    8421.22909458   14289.78579368]\n",
      "Iterations:  16 \n",
      "\n",
      "Group sizes:  [ 15   5 189  18   3 173  22   6  58  11] \n",
      "\n"
     ]
    }
   ],
   "source": [
    "K = 10\n",
    "R, M, m, sizes = KMeans(K, data500, doPrinting=True)"
   ]
  },
  {
   "cell_type": "code",
   "execution_count": 175,
   "metadata": {},
   "outputs": [
    {
     "name": "stdout",
     "output_type": "stream",
     "text": [
      "4\n",
      "55\n",
      "64\n",
      "77\n",
      "2\n",
      "138\n",
      "83\n"
     ]
    }
   ],
   "source": [
    "for i in range(T):\n",
    "    if m[i] == 7:\n",
    "        print(translations[i])"
   ]
  },
  {
   "cell_type": "code",
   "execution_count": 182,
   "metadata": {},
   "outputs": [
    {
     "name": "stdout",
     "output_type": "stream",
     "text": [
      "Average distance to center within groups:\n",
      " [   6299.89016133   29899.34447606   59021.44897008    3902.32331099\n",
      "    2451.98782567   18133.18304864    2474.32880326   89254.80078599\n",
      "  211705.11722792    6011.97304527    9290.21658671    3277.21894817\n",
      "    3934.29406236   17446.96231162    7707.77634481]\n",
      "Iterations:  25 \n",
      "\n",
      "Group sizes:  [ 22  16   3  79  13   8  15   3   3  55  29 133  79  11  31] \n",
      "\n"
     ]
    }
   ],
   "source": [
    "K = 15\n",
    "R, M, m, sizes = KMeans(K, data500, doPrinting=True)"
   ]
  },
  {
   "cell_type": "code",
   "execution_count": 178,
   "metadata": {},
   "outputs": [
    {
     "name": "stdout",
     "output_type": "stream",
     "text": [
      "1\n",
      "218\n",
      "7\n",
      "27\n",
      "148\n"
     ]
    }
   ],
   "source": [
    "for i in range(T):\n",
    "    if m[i] == 2:\n",
    "        print(translations[i])"
   ]
  },
  {
   "cell_type": "code",
   "execution_count": 183,
   "metadata": {
    "collapsed": true
   },
   "outputs": [],
   "source": [
    "data500_1 = np.zeros((T,T))\n",
    "for line in allTransactions:\n",
    "    importantTrans = [retranslations[i] for i in line if i in transData]\n",
    "    for transId in importantTrans:\n",
    "        for transId2 in importantTrans:\n",
    "            if transId2 != transId:\n",
    "                data500_1[transId,transId2] += 1"
   ]
  },
  {
   "cell_type": "code",
   "execution_count": 194,
   "metadata": {},
   "outputs": [
    {
     "name": "stdout",
     "output_type": "stream",
     "text": [
      "Average distance to center within groups:\n",
      " [   3038.15458684    3136.81850762    3657.03148174   53955.60929707\n",
      "   14015.43832425   10549.46768317  221565.19365283    7382.22773104\n",
      "    2597.94724716    5377.29700913]\n",
      "Iterations:  19 \n",
      "\n",
      "Group sizes:  [192  33  82   5   7  22   3  25  97  34] \n",
      "\n"
     ]
    }
   ],
   "source": [
    "K = 10\n",
    "R, M, m, sizes = KMeans(K, data500_1, doPrinting=True)"
   ]
  },
  {
   "cell_type": "code",
   "execution_count": 188,
   "metadata": {},
   "outputs": [
    {
     "name": "stdout",
     "output_type": "stream",
     "text": [
      "6\n",
      "3\n",
      "11\n"
     ]
    }
   ],
   "source": [
    "for i in range(T):\n",
    "    if m[i] == 2:\n",
    "        print(translations[i])"
   ]
  },
  {
   "cell_type": "markdown",
   "metadata": {},
   "source": [
    "### Grupa wielkości 7 zawsze występuje w drugim sposobie, zatem będziemy teraz z niego korzystać"
   ]
  },
  {
   "cell_type": "code",
   "execution_count": 202,
   "metadata": {
    "collapsed": true
   },
   "outputs": [],
   "source": [
    "T = 100\n",
    "translations = {}\n",
    "retranslations = {}\n",
    "transData = np.array(sortedTransactions[:T])\n",
    "for i in range(T):\n",
    "    translations[i] = transData[i]\n",
    "    retranslations[transData[i]] = i"
   ]
  },
  {
   "cell_type": "code",
   "execution_count": 230,
   "metadata": {
    "collapsed": true
   },
   "outputs": [],
   "source": [
    "data100 = np.zeros((T,T))\n",
    "for line in allTransactions:\n",
    "    importantTrans = [retranslations[i] for i in line if i in transData]\n",
    "    for transId in importantTrans:\n",
    "        for transId2 in importantTrans:\n",
    "            data100[transId,transId2] += 1"
   ]
  },
  {
   "cell_type": "code",
   "execution_count": 237,
   "metadata": {},
   "outputs": [
    {
     "name": "stdout",
     "output_type": "stream",
     "text": [
      "Average distance to center within groups:\n",
      " [   7939.99071745   11669.96299596   87986.09144258   21048.88380865\n",
      "   15683.90864178    8575.30116701       0.           12580.25602879\n",
      "  211160.63320013       0.           44993.28277953    4745.54957302\n",
      "       0.               0.            7939.74842516]\n",
      "Iterations:  8 \n",
      "\n",
      "Group sizes:  [ 3  9  5  9 10 20  1  2  3  1  7  2  1  0 27] \n",
      "\n"
     ]
    }
   ],
   "source": [
    "K = 15\n",
    "R, M, m, sizes = KMeans(K, data100, doPrinting=True)"
   ]
  },
  {
   "cell_type": "markdown",
   "metadata": {},
   "source": [
    "### Grupa wielkości 7 znowu mało stabilna"
   ]
  },
  {
   "cell_type": "code",
   "execution_count": 238,
   "metadata": {
    "collapsed": true
   },
   "outputs": [],
   "source": [
    "T = 200\n",
    "translations = {}\n",
    "retranslations = {}\n",
    "transData = np.array(sortedTransactions[:T])\n",
    "for i in range(T):\n",
    "    translations[i] = transData[i]\n",
    "    retranslations[transData[i]] = i"
   ]
  },
  {
   "cell_type": "code",
   "execution_count": 240,
   "metadata": {},
   "outputs": [],
   "source": [
    "data200 = np.zeros((T,T))\n",
    "for line in allTransactions:\n",
    "    importantTrans = [retranslations[i] for i in line if i in transData]\n",
    "    for transId in importantTrans:\n",
    "        for transId2 in importantTrans:\n",
    "            data200[transId,transId2] += 1"
   ]
  },
  {
   "cell_type": "code",
   "execution_count": 265,
   "metadata": {},
   "outputs": [
    {
     "name": "stdout",
     "output_type": "stream",
     "text": [
      "Average distance to center within groups:\n",
      " [   6192.58543832   45083.13950544   14237.56238577   88363.60487011\n",
      "    7223.39648102    9423.3455126    20058.83448754    6599.98644675\n",
      "       0.          211433.44144097]\n",
      "Iterations:  9 \n",
      "\n",
      "Group sizes:  [74  7 10  5 42 34 18  6  1  3] \n",
      "\n"
     ]
    }
   ],
   "source": [
    "K = 10\n",
    "R, M, m, sizes = KMeans(K, data200, doPrinting=True)"
   ]
  },
  {
   "cell_type": "code",
   "execution_count": 255,
   "metadata": {},
   "outputs": [
    {
     "name": "stdout",
     "output_type": "stream",
     "text": [
      "Average distance to center within groups:\n",
      " [   9086.63826326   88363.60487011   30497.43123797  211433.44144097\n",
      "     551.57388071]\n",
      "Iterations:  14 \n",
      "\n",
      "Group sizes:  [163   5  26   3   3] \n",
      "\n"
     ]
    }
   ],
   "source": [
    "K = 5\n",
    "R, M, m, sizes = KMeans(K, data200, doPrinting=True)"
   ]
  },
  {
   "cell_type": "markdown",
   "metadata": {},
   "source": [
    "### Przy dzieleniu na zbyt mało kawałków znowu zdarza nam się gubić grupę 7"
   ]
  }
 ],
 "metadata": {
  "kernelspec": {
   "display_name": "Python 3",
   "language": "python",
   "name": "python3"
  },
  "language_info": {
   "codemirror_mode": {
    "name": "ipython",
    "version": 3
   },
   "file_extension": ".py",
   "mimetype": "text/x-python",
   "name": "python",
   "nbconvert_exporter": "python",
   "pygments_lexer": "ipython3",
   "version": "3.6.1"
  }
 },
 "nbformat": 4,
 "nbformat_minor": 2
}
