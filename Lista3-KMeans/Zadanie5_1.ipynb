{
 "cells": [
  {
   "cell_type": "code",
   "execution_count": 1,
   "metadata": {
    "collapsed": true
   },
   "outputs": [],
   "source": [
    "import numpy as np\n",
    "import pandas as pd\n",
    "import matplotlib.pyplot as plt"
   ]
  },
  {
   "cell_type": "code",
   "execution_count": 2,
   "metadata": {
    "collapsed": true
   },
   "outputs": [],
   "source": [
    "allTransactions = np.array([np.array([int(id) for id in line.split()]) for line in open(\"kosarak.dat\")])"
   ]
  },
  {
   "cell_type": "code",
   "execution_count": 3,
   "metadata": {
    "collapsed": true
   },
   "outputs": [],
   "source": [
    "occurences = {}\n",
    "\n",
    "for i in range(len(allTransactions)):\n",
    "    for j in range(len(allTransactions[i])):\n",
    "        if not allTransactions[i][j] in occurences:\n",
    "            occurences[allTransactions[i][j]] = 0\n",
    "        occurences[allTransactions[i][j]] += 1"
   ]
  },
  {
   "cell_type": "code",
   "execution_count": 4,
   "metadata": {
    "collapsed": true
   },
   "outputs": [],
   "source": [
    "sortedTransactions = sorted(occurences,key=occurences.__getitem__, reverse=True)"
   ]
  },
  {
   "cell_type": "code",
   "execution_count": 5,
   "metadata": {
    "collapsed": true
   },
   "outputs": [],
   "source": [
    "T = 1000\n",
    "translations = {}\n",
    "retranslations = {}\n",
    "transData = np.array(sortedTransactions[:T])\n",
    "for i in range(T):\n",
    "    translations[i] = transData[i]\n",
    "    retranslations[transData[i]] = i"
   ]
  },
  {
   "cell_type": "code",
   "execution_count": 6,
   "metadata": {
    "collapsed": true
   },
   "outputs": [],
   "source": [
    "data = np.zeros((T,T))\n",
    "for line in allTransactions:\n",
    "    importantTrans = [retranslations[i] for i in line if i in transData]\n",
    "    for transId in importantTrans:\n",
    "        for transId2 in importantTrans:\n",
    "            if transId2 != transId:\n",
    "                data[transId,transId2] += 1"
   ]
  },
  {
   "cell_type": "code",
   "execution_count": 11,
   "metadata": {},
   "outputs": [],
   "source": [
    "for i in range(T):\n",
    "    for j in range(T):\n",
    "        if data[i,j] != data[j,i]:\n",
    "            print('error')"
   ]
  }
 ],
 "metadata": {
  "kernelspec": {
   "display_name": "Python 3",
   "language": "python",
   "name": "python3"
  },
  "language_info": {
   "codemirror_mode": {
    "name": "ipython",
    "version": 3
   },
   "file_extension": ".py",
   "mimetype": "text/x-python",
   "name": "python",
   "nbconvert_exporter": "python",
   "pygments_lexer": "ipython3",
   "version": "3.6.1"
  }
 },
 "nbformat": 4,
 "nbformat_minor": 2
}
